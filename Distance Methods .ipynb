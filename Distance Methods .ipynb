{
 "cells": [
  {
   "cell_type": "code",
   "execution_count": 1,
   "id": "eafb3f90",
   "metadata": {
    "_cell_guid": "b1076dfc-b9ad-4769-8c92-a6c4dae69d19",
    "_uuid": "8f2839f25d086af736a60e9eeb907d3b93b6e0e5",
    "execution": {
     "iopub.execute_input": "2023-04-10T09:10:04.043580Z",
     "iopub.status.busy": "2023-04-10T09:10:04.042692Z",
     "iopub.status.idle": "2023-04-10T09:10:04.057756Z",
     "shell.execute_reply": "2023-04-10T09:10:04.056606Z"
    },
    "papermill": {
     "duration": 0.023074,
     "end_time": "2023-04-10T09:10:04.060534",
     "exception": false,
     "start_time": "2023-04-10T09:10:04.037460",
     "status": "completed"
    },
    "tags": []
   },
   "outputs": [],
   "source": [
    "# This Python 3 environment comes with many helpful analytics libraries installed\n",
    "# It is defined by the kaggle/python Docker image: https://github.com/kaggle/docker-python\n",
    "# For example, here's several helpful packages to load\n",
    "\n",
    "import numpy as np # linear algebra\n",
    "import pandas as pd # data processing, CSV file I/O (e.g. pd.read_csv)\n",
    "\n",
    "# Input data files are available in the read-only \"../input/\" directory\n",
    "# For example, running this (by clicking run or pressing Shift+Enter) will list all files under the input directory\n",
    "\n",
    "import os\n",
    "for dirname, _, filenames in os.walk('/kaggle/input'):\n",
    "    for filename in filenames:\n",
    "        print(os.path.join(dirname, filename))\n",
    "\n",
    "# You can write up to 20GB to the current directory (/kaggle/working/) that gets preserved as output when you create a version using \"Save & Run All\" \n",
    "# You can also write temporary files to /kaggle/temp/, but they won't be saved outside of the current session"
   ]
  },
  {
   "cell_type": "code",
   "execution_count": 2,
   "id": "cf5bd46d",
   "metadata": {
    "execution": {
     "iopub.execute_input": "2023-04-10T09:10:04.067120Z",
     "iopub.status.busy": "2023-04-10T09:10:04.066755Z",
     "iopub.status.idle": "2023-04-10T09:10:04.073811Z",
     "shell.execute_reply": "2023-04-10T09:10:04.072639Z"
    },
    "papermill": {
     "duration": 0.014227,
     "end_time": "2023-04-10T09:10:04.077405",
     "exception": false,
     "start_time": "2023-04-10T09:10:04.063178",
     "status": "completed"
    },
    "tags": []
   },
   "outputs": [
    {
     "name": "stdout",
     "output_type": "stream",
     "text": [
      "6.082762530298219\n"
     ]
    }
   ],
   "source": [
    "# Euclidean distance b/w vectors\n",
    "from math import sqrt\n",
    "def euclidean_distance(a,b):\n",
    "    return sqrt(sum((e1-e2)**2 for e1, e2 in zip(a,b)))\n",
    "row1 = [10, 20, 15, 10, 5]\n",
    "row2 = [12, 24, 18, 8, 7]\n",
    "distEV = euclidean_distance(row1, row2)\n",
    "print(distEV)"
   ]
  },
  {
   "cell_type": "code",
   "execution_count": 3,
   "id": "9736e53a",
   "metadata": {
    "execution": {
     "iopub.execute_input": "2023-04-10T09:10:04.084890Z",
     "iopub.status.busy": "2023-04-10T09:10:04.083964Z",
     "iopub.status.idle": "2023-04-10T09:10:04.349119Z",
     "shell.execute_reply": "2023-04-10T09:10:04.347490Z"
    },
    "papermill": {
     "duration": 0.271539,
     "end_time": "2023-04-10T09:10:04.351817",
     "exception": false,
     "start_time": "2023-04-10T09:10:04.080278",
     "status": "completed"
    },
    "tags": []
   },
   "outputs": [
    {
     "name": "stdout",
     "output_type": "stream",
     "text": [
      "6.082762530298219\n"
     ]
    }
   ],
   "source": [
    "# Euclidean() fn from scipy\n",
    "from scipy.spatial.distance import euclidean\n",
    "row1 = [10, 20, 15, 10, 5]\n",
    "row2 = [12, 24, 18, 8, 7]\n",
    "distES = euclidean(row1, row2)\n",
    "print(distES)"
   ]
  },
  {
   "cell_type": "code",
   "execution_count": 4,
   "id": "19f67561",
   "metadata": {
    "execution": {
     "iopub.execute_input": "2023-04-10T09:10:04.358429Z",
     "iopub.status.busy": "2023-04-10T09:10:04.358067Z",
     "iopub.status.idle": "2023-04-10T09:10:04.364704Z",
     "shell.execute_reply": "2023-04-10T09:10:04.363548Z"
    },
    "papermill": {
     "duration": 0.0131,
     "end_time": "2023-04-10T09:10:04.367355",
     "exception": false,
     "start_time": "2023-04-10T09:10:04.354255",
     "status": "completed"
    },
    "tags": []
   },
   "outputs": [
    {
     "name": "stdout",
     "output_type": "stream",
     "text": [
      "13\n"
     ]
    }
   ],
   "source": [
    "# Manhattan distance b/w vectors\n",
    "def manhattan_distance(a,b):\n",
    "    return sum(abs(e1-e2) for e1, e2 in zip(a,b))\n",
    "row1 = [10, 20, 15, 10, 5]\n",
    "row2 = [12, 24, 18, 8, 7]\n",
    "distMV = manhattan_distance(row1, row2)\n",
    "print(distMV)"
   ]
  },
  {
   "cell_type": "code",
   "execution_count": 5,
   "id": "239cf8fe",
   "metadata": {
    "execution": {
     "iopub.execute_input": "2023-04-10T09:10:04.373713Z",
     "iopub.status.busy": "2023-04-10T09:10:04.373344Z",
     "iopub.status.idle": "2023-04-10T09:10:04.379240Z",
     "shell.execute_reply": "2023-04-10T09:10:04.378215Z"
    },
    "papermill": {
     "duration": 0.012134,
     "end_time": "2023-04-10T09:10:04.381919",
     "exception": false,
     "start_time": "2023-04-10T09:10:04.369785",
     "status": "completed"
    },
    "tags": []
   },
   "outputs": [
    {
     "name": "stdout",
     "output_type": "stream",
     "text": [
      "13\n"
     ]
    }
   ],
   "source": [
    "# using the cityblock() function from SciPy\n",
    "from scipy.spatial.distance import cityblock\n",
    "row1 = [10, 20, 15, 10, 5]\n",
    "row2 = [12, 24, 18, 8, 7]\n",
    "distMC = cityblock(row1, row2)\n",
    "print(distMC)"
   ]
  }
 ],
 "metadata": {
  "kernelspec": {
   "display_name": "Python 3",
   "language": "python",
   "name": "python3"
  },
  "language_info": {
   "codemirror_mode": {
    "name": "ipython",
    "version": 3
   },
   "file_extension": ".py",
   "mimetype": "text/x-python",
   "name": "python",
   "nbconvert_exporter": "python",
   "pygments_lexer": "ipython3",
   "version": "3.7.12"
  },
  "papermill": {
   "default_parameters": {},
   "duration": 11.055512,
   "end_time": "2023-04-10T09:10:05.005838",
   "environment_variables": {},
   "exception": null,
   "input_path": "__notebook__.ipynb",
   "output_path": "__notebook__.ipynb",
   "parameters": {},
   "start_time": "2023-04-10T09:09:53.950326",
   "version": "2.4.0"
  }
 },
 "nbformat": 4,
 "nbformat_minor": 5
}
