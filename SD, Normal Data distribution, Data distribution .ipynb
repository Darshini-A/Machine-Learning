{
 "cells": [
  {
   "cell_type": "code",
   "execution_count": 1,
   "id": "a026b949",
   "metadata": {
    "_cell_guid": "b1076dfc-b9ad-4769-8c92-a6c4dae69d19",
    "_uuid": "8f2839f25d086af736a60e9eeb907d3b93b6e0e5",
    "execution": {
     "iopub.execute_input": "2023-04-11T19:11:04.443627Z",
     "iopub.status.busy": "2023-04-11T19:11:04.443199Z",
     "iopub.status.idle": "2023-04-11T19:11:04.453941Z",
     "shell.execute_reply": "2023-04-11T19:11:04.453002Z"
    },
    "papermill": {
     "duration": 0.018244,
     "end_time": "2023-04-11T19:11:04.456205",
     "exception": false,
     "start_time": "2023-04-11T19:11:04.437961",
     "status": "completed"
    },
    "tags": []
   },
   "outputs": [],
   "source": [
    "# This Python 3 environment comes with many helpful analytics libraries installed\n",
    "# It is defined by the kaggle/python Docker image: https://github.com/kaggle/docker-python\n",
    "# For example, here's several helpful packages to load\n",
    "\n",
    "import numpy as np # linear algebra\n",
    "import pandas as pd # data processing, CSV file I/O (e.g. pd.read_csv)\n",
    "\n",
    "# Input data files are available in the read-only \"../input/\" directory\n",
    "# For example, running this (by clicking run or pressing Shift+Enter) will list all files under the input directory\n",
    "\n",
    "import os\n",
    "for dirname, _, filenames in os.walk('/kaggle/input'):\n",
    "    for filename in filenames:\n",
    "        print(os.path.join(dirname, filename))\n",
    "\n",
    "# You can write up to 20GB to the current directory (/kaggle/working/) that gets preserved as output when you create a version using \"Save & Run All\" \n",
    "# You can also write temporary files to /kaggle/temp/, but they won't be saved outside of the current session"
   ]
  },
  {
   "cell_type": "code",
   "execution_count": 2,
   "id": "30f940ff",
   "metadata": {
    "execution": {
     "iopub.execute_input": "2023-04-11T19:11:04.463265Z",
     "iopub.status.busy": "2023-04-11T19:11:04.462288Z",
     "iopub.status.idle": "2023-04-11T19:11:04.472367Z",
     "shell.execute_reply": "2023-04-11T19:11:04.471503Z"
    },
    "papermill": {
     "duration": 0.015777,
     "end_time": "2023-04-11T19:11:04.474580",
     "exception": false,
     "start_time": "2023-04-11T19:11:04.458803",
     "status": "completed"
    },
    "tags": []
   },
   "outputs": [
    {
     "data": {
      "text/plain": [
       "0.9035079029052513"
      ]
     },
     "execution_count": 2,
     "metadata": {},
     "output_type": "execute_result"
    }
   ],
   "source": [
    "# Standard Deviation\n",
    "import numpy\n",
    "speed = [86, 87, 88, 86, 87, 85, 86]\n",
    "x = numpy.std(speed)\n",
    "x"
   ]
  },
  {
   "cell_type": "code",
   "execution_count": 3,
   "id": "cbd811b1",
   "metadata": {
    "execution": {
     "iopub.execute_input": "2023-04-11T19:11:04.481573Z",
     "iopub.status.busy": "2023-04-11T19:11:04.480847Z",
     "iopub.status.idle": "2023-04-11T19:11:04.489461Z",
     "shell.execute_reply": "2023-04-11T19:11:04.488683Z"
    },
    "papermill": {
     "duration": 0.014416,
     "end_time": "2023-04-11T19:11:04.491541",
     "exception": false,
     "start_time": "2023-04-11T19:11:04.477125",
     "status": "completed"
    },
    "tags": []
   },
   "outputs": [
    {
     "data": {
      "text/plain": [
       "array([1.8591325 , 4.39598486, 3.76858556, 3.29935209, 4.33598535,\n",
       "       1.09780002, 1.40915468, 2.59995058, 0.7738051 , 3.01347069,\n",
       "       2.02675412, 2.8543459 , 3.87252031, 4.01366035, 4.16512839,\n",
       "       4.61739855, 1.37962694, 2.63253872, 4.66006019, 4.20050113,\n",
       "       1.06705486, 4.1286481 , 2.20263842, 0.04136189, 1.73374395,\n",
       "       3.44657916, 0.40175026, 4.45740082, 0.53444795, 4.22964523,\n",
       "       4.39616301, 4.26301384, 1.00103807, 4.07050783, 3.4262386 ,\n",
       "       4.97904735, 2.26044895, 1.62747134, 0.49485631, 0.96280589,\n",
       "       2.16155252, 3.05885558, 4.60759197, 3.06321384, 1.56474857,\n",
       "       2.55918926, 0.76940881, 4.56268413, 0.3983719 , 4.82404713,\n",
       "       2.29226687, 4.83324291, 0.88606904, 1.51852702, 3.31202598,\n",
       "       2.38922603, 4.30834305, 4.66360127, 4.24072763, 2.69668297,\n",
       "       2.75540537, 2.84570407, 4.82954399, 2.04353657, 1.83891927,\n",
       "       4.97361205, 4.3148951 , 4.56780974, 3.36849877, 1.4409    ,\n",
       "       1.1230442 , 1.81987022, 4.44201578, 4.92600515, 4.10781763,\n",
       "       1.75962055, 3.35568103, 2.79336426, 3.86629762, 1.47691046,\n",
       "       3.98461291, 1.90787827, 1.49596219, 2.64993702, 3.64250669,\n",
       "       2.90031773, 1.56430058, 4.6009881 , 4.45057944, 2.14610236,\n",
       "       3.40578747, 0.65967817, 1.35785187, 3.72954429, 3.60374227,\n",
       "       3.26254682, 0.95714028, 3.46901507, 3.89810265, 2.17789221,\n",
       "       1.88267289, 1.8007308 , 4.26632417, 3.12497284, 4.34972031,\n",
       "       3.37411887, 3.91049658, 3.89064378, 1.99297907, 4.72166851,\n",
       "       2.84306773, 3.8955631 , 4.67822225, 3.99245469, 2.72900897,\n",
       "       1.08837039, 2.15136969, 0.69821206, 4.61945997, 0.78540677,\n",
       "       1.68687426, 1.18665131, 3.32219346, 2.25394649, 0.2071443 ,\n",
       "       2.6497744 , 4.56537864, 1.79920511, 0.45728984, 1.15536039,\n",
       "       1.90571367, 0.83427682, 3.24379288, 3.54155621, 4.06005975,\n",
       "       2.05523194, 2.05644718, 4.50880378, 0.80573819, 4.92709483,\n",
       "       2.55800093, 0.60145215, 3.81706163, 1.78031511, 0.20317943,\n",
       "       3.53500956, 0.29246574, 0.94924959, 4.91825814, 4.46446003,\n",
       "       4.97882455, 3.39356036, 1.08446038, 1.11186094, 0.67277405,\n",
       "       2.0518687 , 2.8065149 , 2.22470391, 3.70334724, 3.38989769,\n",
       "       2.33852331, 2.01882689, 4.59192374, 0.70083123, 0.59360713,\n",
       "       3.18537716, 2.1663774 , 4.22700135, 4.6330421 , 3.20003593,\n",
       "       2.16553718, 1.52040924, 4.59869109, 2.5804661 , 0.84867797,\n",
       "       4.33834122, 2.05794885, 0.10465334, 3.09340376, 0.07154957,\n",
       "       4.42910508, 3.91204106, 1.19179298, 3.03849366, 1.48937552,\n",
       "       3.1605797 , 3.44133698, 3.19985304, 0.14228288, 4.60736418,\n",
       "       4.00737232, 2.76673606, 3.32106346, 2.6696899 , 0.35746489,\n",
       "       3.31983307, 3.36048051, 3.85580838, 3.90561038, 0.56869464,\n",
       "       4.32369786, 2.70042874, 0.39438593, 3.04881998, 2.54289896,\n",
       "       3.46396535, 3.32630549, 4.58107822, 4.01389989, 3.32213502,\n",
       "       1.07653878, 0.8683735 , 3.36098038, 0.11821443, 1.19632778,\n",
       "       1.88725357, 2.8617397 , 2.45599091, 2.17307845, 1.4449007 ,\n",
       "       3.13624443, 1.30246245, 2.60376593, 1.83446894, 0.65000669,\n",
       "       1.41141801, 2.11859611, 2.79658883, 2.90954862, 0.04170081,\n",
       "       3.7428576 , 3.31178879, 3.37479098, 0.75318664, 4.84983964,\n",
       "       3.55051823, 4.62121589, 1.25235471, 1.33088692, 2.55448492,\n",
       "       2.24504363, 3.25924613, 0.81381917, 1.96139264, 2.02513131,\n",
       "       1.19102197, 2.91058156, 2.49325581, 2.08217593, 3.26791344])"
      ]
     },
     "execution_count": 3,
     "metadata": {},
     "output_type": "execute_result"
    }
   ],
   "source": [
    "# Data Distribution print\n",
    "import numpy\n",
    "y = numpy.random.uniform(0.0, 5.0, 250)\n",
    "y"
   ]
  },
  {
   "cell_type": "code",
   "execution_count": 4,
   "id": "11473ae0",
   "metadata": {
    "execution": {
     "iopub.execute_input": "2023-04-11T19:11:04.499019Z",
     "iopub.status.busy": "2023-04-11T19:11:04.498536Z",
     "iopub.status.idle": "2023-04-11T19:11:04.737186Z",
     "shell.execute_reply": "2023-04-11T19:11:04.736264Z"
    },
    "papermill": {
     "duration": 0.245563,
     "end_time": "2023-04-11T19:11:04.739776",
     "exception": false,
     "start_time": "2023-04-11T19:11:04.494213",
     "status": "completed"
    },
    "tags": []
   },
   "outputs": [
    {
     "data": {
      "image/png": "[encoded data removed]",
      "text/plain": [
       "<Figure size 640x480 with 1 Axes>"
      ]
     },
     "metadata": {},
     "output_type": "display_data"
    }
   ],
   "source": [
    "# Data Distribution plot\n",
    "import numpy\n",
    "import matplotlib.pyplot as plt\n",
    "z = numpy.random.uniform(0.0, 5.0, 250)\n",
    "plt.hist(z, 5)\n",
    "plt.show()"
   ]
  },
  {
   "cell_type": "code",
   "execution_count": 5,
   "id": "6ee87c5e",
   "metadata": {
    "execution": {
     "iopub.execute_input": "2023-04-11T19:11:04.747883Z",
     "iopub.status.busy": "2023-04-11T19:11:04.747440Z",
     "iopub.status.idle": "2023-04-11T19:11:05.112305Z",
     "shell.execute_reply": "2023-04-11T19:11:05.110908Z"
    },
    "papermill": {
     "duration": 0.372313,
     "end_time": "2023-04-11T19:11:05.115199",
     "exception": false,
     "start_time": "2023-04-11T19:11:04.742886",
     "status": "completed"
    },
    "tags": []
   },
   "outputs": [
    {
     "data": {
      "image/png": "[encoded data removed]",
      "text/plain": [
       "<Figure size 640x480 with 1 Axes>"
      ]
     },
     "metadata": {},
     "output_type": "display_data"
    }
   ],
   "source": [
    "# Normal Data Distribution \n",
    "import numpy\n",
    "import matplotlib.pyplot as plt\n",
    "a = numpy.random.normal(5.0, 1.0, 10000)\n",
    "plt.hist(a, 100)\n",
    "plt.show()"
   ]
  }
 ],
 "metadata": {
  "kernelspec": {
   "display_name": "Python 3",
   "language": "python",
   "name": "python3"
  },
  "language_info": {
   "codemirror_mode": {
    "name": "ipython",
    "version": 3
   },
   "file_extension": ".py",
   "mimetype": "text/x-python",
   "name": "python",
   "nbconvert_exporter": "python",
   "pygments_lexer": "ipython3",
   "version": "3.7.12"
  },
  "papermill": {
   "default_parameters": {},
   "duration": 13.627333,
   "end_time": "2023-04-11T19:11:05.841461",
   "environment_variables": {},
   "exception": null,
   "input_path": "__notebook__.ipynb",
   "output_path": "__notebook__.ipynb",
   "parameters": {},
   "start_time": "2023-04-11T19:10:52.214128",
   "version": "2.4.0"
  }
 },
 "nbformat": 4,
 "nbformat_minor": 5
}
