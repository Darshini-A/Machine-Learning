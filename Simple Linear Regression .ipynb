{
 "cells": [
  {
   "cell_type": "code",
   "execution_count": 1,
   "id": "22384fa8",
   "metadata": {
    "_cell_guid": "b1076dfc-b9ad-4769-8c92-a6c4dae69d19",
    "_uuid": "8f2839f25d086af736a60e9eeb907d3b93b6e0e5",
    "execution": {
     "iopub.execute_input": "2023-04-11T20:01:36.932930Z",
     "iopub.status.busy": "2023-04-11T20:01:36.932015Z",
     "iopub.status.idle": "2023-04-11T20:01:36.953102Z",
     "shell.execute_reply": "2023-04-11T20:01:36.951853Z"
    },
    "papermill": {
     "duration": 0.029856,
     "end_time": "2023-04-11T20:01:36.955589",
     "exception": false,
     "start_time": "2023-04-11T20:01:36.925733",
     "status": "completed"
    },
    "tags": []
   },
   "outputs": [
    {
     "name": "stdout",
     "output_type": "stream",
     "text": [
      "/kaggle/input/salary-data/Salary_Data.csv\n"
     ]
    }
   ],
   "source": [
    "# This Python 3 environment comes with many helpful analytics libraries installed\n",
    "# It is defined by the kaggle/python Docker image: https://github.com/kaggle/docker-python\n",
    "# For example, here's several helpful packages to load\n",
    "\n",
    "import numpy as np # linear algebra\n",
    "import pandas as pd # data processing, CSV file I/O (e.g. pd.read_csv)\n",
    "\n",
    "# Input data files are available in the read-only \"../input/\" directory\n",
    "# For example, running this (by clicking run or pressing Shift+Enter) will list all files under the input directory\n",
    "\n",
    "import os\n",
    "for dirname, _, filenames in os.walk('/kaggle/input'):\n",
    "    for filename in filenames:\n",
    "        print(os.path.join(dirname, filename))\n",
    "\n",
    "# You can write up to 20GB to the current directory (/kaggle/working/) that gets preserved as output when you create a version using \"Save & Run All\" \n",
    "# You can also write temporary files to /kaggle/temp/, but they won't be saved outside of the current session"
   ]
  },
  {
   "cell_type": "code",
   "execution_count": 2,
   "id": "fe941552",
   "metadata": {
    "execution": {
     "iopub.execute_input": "2023-04-11T20:01:36.964211Z",
     "iopub.status.busy": "2023-04-11T20:01:36.963476Z",
     "iopub.status.idle": "2023-04-11T20:01:36.968292Z",
     "shell.execute_reply": "2023-04-11T20:01:36.967468Z"
    },
    "papermill": {
     "duration": 0.011602,
     "end_time": "2023-04-11T20:01:36.970574",
     "exception": false,
     "start_time": "2023-04-11T20:01:36.958972",
     "status": "completed"
    },
    "tags": []
   },
   "outputs": [],
   "source": [
    "import numpy as np\n",
    "import matplotlib.pyplot as plt\n",
    "import pandas as pd"
   ]
  },
  {
   "cell_type": "code",
   "execution_count": 3,
   "id": "4a4edb3f",
   "metadata": {
    "execution": {
     "iopub.execute_input": "2023-04-11T20:01:36.978121Z",
     "iopub.status.busy": "2023-04-11T20:01:36.977765Z",
     "iopub.status.idle": "2023-04-11T20:01:37.012357Z",
     "shell.execute_reply": "2023-04-11T20:01:37.011274Z"
    },
    "papermill": {
     "duration": 0.041111,
     "end_time": "2023-04-11T20:01:37.014852",
     "exception": false,
     "start_time": "2023-04-11T20:01:36.973741",
     "status": "completed"
    },
    "tags": []
   },
   "outputs": [
    {
     "data": {
      "text/html": [
       "<div>\n",
       "<style scoped>\n",
       "    .dataframe tbody tr th:only-of-type {\n",
       "        vertical-align: middle;\n",
       "    }\n",
       "\n",
       "    .dataframe tbody tr th {\n",
       "        vertical-align: top;\n",
       "    }\n",
       "\n",
       "    .dataframe thead th {\n",
       "        text-align: right;\n",
       "    }\n",
       "</style>\n",
       "<table border=\"1\" class=\"dataframe\">\n",
       "  <thead>\n",
       "    <tr style=\"text-align: right;\">\n",
       "      <th></th>\n",
       "      <th>YearsExperience</th>\n",
       "      <th>Salary</th>\n",
       "    </tr>\n",
       "  </thead>\n",
       "  <tbody>\n",
       "    <tr>\n",
       "      <th>0</th>\n",
       "      <td>1.1</td>\n",
       "      <td>39343.0</td>\n",
       "    </tr>\n",
       "    <tr>\n",
       "      <th>1</th>\n",
       "      <td>1.3</td>\n",
       "      <td>46205.0</td>\n",
       "    </tr>\n",
       "    <tr>\n",
       "      <th>2</th>\n",
       "      <td>1.5</td>\n",
       "      <td>37731.0</td>\n",
       "    </tr>\n",
       "    <tr>\n",
       "      <th>3</th>\n",
       "      <td>2.0</td>\n",
       "      <td>43525.0</td>\n",
       "    </tr>\n",
       "    <tr>\n",
       "      <th>4</th>\n",
       "      <td>2.2</td>\n",
       "      <td>39891.0</td>\n",
       "    </tr>\n",
       "  </tbody>\n",
       "</table>\n",
       "</div>"
      ],
      "text/plain": [
       "   YearsExperience   Salary\n",
       "0              1.1  39343.0\n",
       "1              1.3  46205.0\n",
       "2              1.5  37731.0\n",
       "3              2.0  43525.0\n",
       "4              2.2  39891.0"
      ]
     },
     "execution_count": 3,
     "metadata": {},
     "output_type": "execute_result"
    }
   ],
   "source": [
    "data = pd.read_csv('/kaggle/input/salary-data/Salary_Data.csv')\n",
    "data.head()"
   ]
  },
  {
   "cell_type": "code",
   "execution_count": 4,
   "id": "9ab675d5",
   "metadata": {
    "execution": {
     "iopub.execute_input": "2023-04-11T20:01:37.023187Z",
     "iopub.status.busy": "2023-04-11T20:01:37.022813Z",
     "iopub.status.idle": "2023-04-11T20:01:37.028367Z",
     "shell.execute_reply": "2023-04-11T20:01:37.027237Z"
    },
    "papermill": {
     "duration": 0.012291,
     "end_time": "2023-04-11T20:01:37.030626",
     "exception": false,
     "start_time": "2023-04-11T20:01:37.018335",
     "status": "completed"
    },
    "tags": []
   },
   "outputs": [],
   "source": [
    "x = data.iloc[:, :-1].values\n",
    "y = data.iloc[:, -1].values"
   ]
  },
  {
   "cell_type": "code",
   "execution_count": 5,
   "id": "7d02a271",
   "metadata": {
    "execution": {
     "iopub.execute_input": "2023-04-11T20:01:37.038381Z",
     "iopub.status.busy": "2023-04-11T20:01:37.038021Z",
     "iopub.status.idle": "2023-04-11T20:01:38.114931Z",
     "shell.execute_reply": "2023-04-11T20:01:38.113801Z"
    },
    "papermill": {
     "duration": 1.083711,
     "end_time": "2023-04-11T20:01:38.117584",
     "exception": false,
     "start_time": "2023-04-11T20:01:37.033873",
     "status": "completed"
    },
    "tags": []
   },
   "outputs": [],
   "source": [
    "# Splitting\n",
    "from sklearn.model_selection import train_test_split\n",
    "x_train, x_test, y_train, y_test = train_test_split(x, y, test_size=1/3, random_state=0)"
   ]
  },
  {
   "cell_type": "code",
   "execution_count": 6,
   "id": "fba1352b",
   "metadata": {
    "execution": {
     "iopub.execute_input": "2023-04-11T20:01:38.125872Z",
     "iopub.status.busy": "2023-04-11T20:01:38.125494Z",
     "iopub.status.idle": "2023-04-11T20:01:38.240942Z",
     "shell.execute_reply": "2023-04-11T20:01:38.240077Z"
    },
    "papermill": {
     "duration": 0.122732,
     "end_time": "2023-04-11T20:01:38.243717",
     "exception": false,
     "start_time": "2023-04-11T20:01:38.120985",
     "status": "completed"
    },
    "tags": []
   },
   "outputs": [
    {
     "data": {
      "text/plain": [
       "LinearRegression()"
      ]
     },
     "execution_count": 6,
     "metadata": {},
     "output_type": "execute_result"
    }
   ],
   "source": [
    "# Training simple linear regression model on training set\n",
    "from sklearn.linear_model import LinearRegression\n",
    "regressor = LinearRegression()\n",
    "regressor.fit(x_train, y_train)"
   ]
  },
  {
   "cell_type": "code",
   "execution_count": 7,
   "id": "29867ae8",
   "metadata": {
    "execution": {
     "iopub.execute_input": "2023-04-11T20:01:38.252925Z",
     "iopub.status.busy": "2023-04-11T20:01:38.252532Z",
     "iopub.status.idle": "2023-04-11T20:01:38.259110Z",
     "shell.execute_reply": "2023-04-11T20:01:38.258278Z"
    },
    "papermill": {
     "duration": 0.013907,
     "end_time": "2023-04-11T20:01:38.261246",
     "exception": false,
     "start_time": "2023-04-11T20:01:38.247339",
     "status": "completed"
    },
    "tags": []
   },
   "outputs": [
    {
     "data": {
      "text/plain": [
       "array([ 40835.10590871, 123079.39940819,  65134.55626083,  63265.36777221,\n",
       "       115602.64545369, 108125.8914992 , 116537.23969801,  64199.96201652,\n",
       "        76349.68719258, 100649.1375447 ])"
      ]
     },
     "execution_count": 7,
     "metadata": {},
     "output_type": "execute_result"
    }
   ],
   "source": [
    "# Predicting test set results\n",
    "y_pred = regressor.predict(x_test)\n",
    "y_pred"
   ]
  },
  {
   "cell_type": "code",
   "execution_count": 8,
   "id": "f6994c2e",
   "metadata": {
    "execution": {
     "iopub.execute_input": "2023-04-11T20:01:38.270252Z",
     "iopub.status.busy": "2023-04-11T20:01:38.269260Z",
     "iopub.status.idle": "2023-04-11T20:01:38.515625Z",
     "shell.execute_reply": "2023-04-11T20:01:38.514521Z"
    },
    "papermill": {
     "duration": 0.253838,
     "end_time": "2023-04-11T20:01:38.518610",
     "exception": false,
     "start_time": "2023-04-11T20:01:38.264772",
     "status": "completed"
    },
    "tags": []
   },
   "outputs": [
    {
     "data": {
      "image/png": "[encoded data removed]",
      "text/plain": [
       "<Figure size 640x480 with 1 Axes>"
      ]
     },
     "metadata": {},
     "output_type": "display_data"
    }
   ],
   "source": [
    "# Visualising training set results\n",
    "plt.scatter(x_train, y_train, color='red')\n",
    "plt.plot(x_train, regressor.predict(x_train), color='blue')\n",
    "plt.title('Salary vs Experience (Training set)')\n",
    "plt.xlabel('Years of Experience')\n",
    "plt.ylabel('Salary')\n",
    "plt.show()"
   ]
  },
  {
   "cell_type": "code",
   "execution_count": 9,
   "id": "a576b735",
   "metadata": {
    "execution": {
     "iopub.execute_input": "2023-04-11T20:01:38.528580Z",
     "iopub.status.busy": "2023-04-11T20:01:38.528162Z",
     "iopub.status.idle": "2023-04-11T20:01:38.747123Z",
     "shell.execute_reply": "2023-04-11T20:01:38.746050Z"
    },
    "papermill": {
     "duration": 0.227715,
     "end_time": "2023-04-11T20:01:38.750522",
     "exception": false,
     "start_time": "2023-04-11T20:01:38.522807",
     "status": "completed"
    },
    "tags": []
   },
   "outputs": [
    {
     "data": {
      "image/png": "[encoded data removed]",
      "text/plain": [
       "<Figure size 640x480 with 1 Axes>"
      ]
     },
     "metadata": {},
     "output_type": "display_data"
    }
   ],
   "source": [
    "# Visualising test set results\n",
    "plt.scatter(x_test, y_test, color='magenta')\n",
    "plt.plot(x_train, regressor.predict(x_train), color='green')\n",
    "plt.title('Salary vs Experience (Test set)')\n",
    "plt.xlabel('Years of Experience')\n",
    "plt.ylabel('Salary')\n",
    "plt.show()"
   ]
  }
 ],
 "metadata": {
  "kernelspec": {
   "display_name": "Python 3",
   "language": "python",
   "name": "python3"
  },
  "language_info": {
   "codemirror_mode": {
    "name": "ipython",
    "version": 3
   },
   "file_extension": ".py",
   "mimetype": "text/x-python",
   "name": "python",
   "nbconvert_exporter": "python",
   "pygments_lexer": "ipython3",
   "version": "3.7.12"
  },
  "papermill": {
   "default_parameters": {},
   "duration": 12.627962,
   "end_time": "2023-04-11T20:01:39.477280",
   "environment_variables": {},
   "exception": null,
   "input_path": "__notebook__.ipynb",
   "output_path": "__notebook__.ipynb",
   "parameters": {},
   "start_time": "2023-04-11T20:01:26.849318",
   "version": "2.4.0"
  }
 },
 "nbformat": 4,
 "nbformat_minor": 5
}
