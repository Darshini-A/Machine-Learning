{
 "cells": [
  {
   "cell_type": "code",
   "execution_count": 1,
   "id": "09e6b132",
   "metadata": {
    "_cell_guid": "b1076dfc-b9ad-4769-8c92-a6c4dae69d19",
    "_uuid": "8f2839f25d086af736a60e9eeb907d3b93b6e0e5",
    "execution": {
     "iopub.execute_input": "2023-04-06T06:49:43.414136Z",
     "iopub.status.busy": "2023-04-06T06:49:43.413544Z",
     "iopub.status.idle": "2023-04-06T06:49:43.435433Z",
     "shell.execute_reply": "2023-04-06T06:49:43.433933Z"
    },
    "papermill": {
     "duration": 0.031854,
     "end_time": "2023-04-06T06:49:43.438522",
     "exception": false,
     "start_time": "2023-04-06T06:49:43.406668",
     "status": "completed"
    },
    "tags": []
   },
   "outputs": [
    {
     "name": "stdout",
     "output_type": "stream",
     "text": [
      "/kaggle/input/iris-dataset/iris.data\n"
     ]
    }
   ],
   "source": [
    "# This Python 3 environment comes with many helpful analytics libraries installed\n",
    "# It is defined by the kaggle/python Docker image: https://github.com/kaggle/docker-python\n",
    "# For example, here's several helpful packages to load\n",
    "\n",
    "import numpy as np # linear algebra\n",
    "import pandas as pd # data processing, CSV file I/O (e.g. pd.read_csv)\n",
    "\n",
    "# Input data files are available in the read-only \"../input/\" directory\n",
    "# For example, running this (by clicking run or pressing Shift+Enter) will list all files under the input directory\n",
    "\n",
    "import os\n",
    "for dirname, _, filenames in os.walk('/kaggle/input'):\n",
    "    for filename in filenames:\n",
    "        print(os.path.join(dirname, filename))\n",
    "\n",
    "# You can write up to 20GB to the current directory (/kaggle/working/) that gets preserved as output when you create a version using \"Save & Run All\" \n",
    "# You can also write temporary files to /kaggle/temp/, but they won't be saved outside of the current session"
   ]
  },
  {
   "cell_type": "code",
   "execution_count": 2,
   "id": "ac7441ef",
   "metadata": {
    "execution": {
     "iopub.execute_input": "2023-04-06T06:49:43.447972Z",
     "iopub.status.busy": "2023-04-06T06:49:43.447547Z",
     "iopub.status.idle": "2023-04-06T06:49:43.452267Z",
     "shell.execute_reply": "2023-04-06T06:49:43.451138Z"
    },
    "papermill": {
     "duration": 0.012199,
     "end_time": "2023-04-06T06:49:43.454604",
     "exception": false,
     "start_time": "2023-04-06T06:49:43.442405",
     "status": "completed"
    },
    "tags": []
   },
   "outputs": [],
   "source": [
    "import numpy as np\n",
    "import pandas as pd"
   ]
  },
  {
   "cell_type": "code",
   "execution_count": 3,
   "id": "29a8f25a",
   "metadata": {
    "execution": {
     "iopub.execute_input": "2023-04-06T06:49:43.463641Z",
     "iopub.status.busy": "2023-04-06T06:49:43.463264Z",
     "iopub.status.idle": "2023-04-06T06:49:43.468175Z",
     "shell.execute_reply": "2023-04-06T06:49:43.466998Z"
    },
    "papermill": {
     "duration": 0.012302,
     "end_time": "2023-04-06T06:49:43.470508",
     "exception": false,
     "start_time": "2023-04-06T06:49:43.458206",
     "status": "completed"
    },
    "tags": []
   },
   "outputs": [],
   "source": [
    "#url = \"https://archive.ics.uci.edu/ml/machine-learning-databases/iris/iris.data\"\n",
    "#names = ['sepal-length', 'sepal-width', 'petal-length', 'petal-width', 'Class']\n",
    "#dataset = pd.read_csv(url, names=names)\n",
    "#dataset.head()"
   ]
  },
  {
   "cell_type": "code",
   "execution_count": 4,
   "id": "2692e814",
   "metadata": {
    "execution": {
     "iopub.execute_input": "2023-04-06T06:49:43.479477Z",
     "iopub.status.busy": "2023-04-06T06:49:43.478798Z",
     "iopub.status.idle": "2023-04-06T06:49:43.517602Z",
     "shell.execute_reply": "2023-04-06T06:49:43.516674Z"
    },
    "papermill": {
     "duration": 0.045561,
     "end_time": "2023-04-06T06:49:43.519800",
     "exception": false,
     "start_time": "2023-04-06T06:49:43.474239",
     "status": "completed"
    },
    "tags": []
   },
   "outputs": [
    {
     "data": {
      "text/html": [
       "<div>\n",
       "<style scoped>\n",
       "    .dataframe tbody tr th:only-of-type {\n",
       "        vertical-align: middle;\n",
       "    }\n",
       "\n",
       "    .dataframe tbody tr th {\n",
       "        vertical-align: top;\n",
       "    }\n",
       "\n",
       "    .dataframe thead th {\n",
       "        text-align: right;\n",
       "    }\n",
       "</style>\n",
       "<table border=\"1\" class=\"dataframe\">\n",
       "  <thead>\n",
       "    <tr style=\"text-align: right;\">\n",
       "      <th></th>\n",
       "      <th>5.1</th>\n",
       "      <th>3.5</th>\n",
       "      <th>1.4</th>\n",
       "      <th>0.2</th>\n",
       "      <th>Iris-setosa</th>\n",
       "    </tr>\n",
       "  </thead>\n",
       "  <tbody>\n",
       "    <tr>\n",
       "      <th>0</th>\n",
       "      <td>4.9</td>\n",
       "      <td>3.0</td>\n",
       "      <td>1.4</td>\n",
       "      <td>0.2</td>\n",
       "      <td>Iris-setosa</td>\n",
       "    </tr>\n",
       "    <tr>\n",
       "      <th>1</th>\n",
       "      <td>4.7</td>\n",
       "      <td>3.2</td>\n",
       "      <td>1.3</td>\n",
       "      <td>0.2</td>\n",
       "      <td>Iris-setosa</td>\n",
       "    </tr>\n",
       "    <tr>\n",
       "      <th>2</th>\n",
       "      <td>4.6</td>\n",
       "      <td>3.1</td>\n",
       "      <td>1.5</td>\n",
       "      <td>0.2</td>\n",
       "      <td>Iris-setosa</td>\n",
       "    </tr>\n",
       "    <tr>\n",
       "      <th>3</th>\n",
       "      <td>5.0</td>\n",
       "      <td>3.6</td>\n",
       "      <td>1.4</td>\n",
       "      <td>0.2</td>\n",
       "      <td>Iris-setosa</td>\n",
       "    </tr>\n",
       "    <tr>\n",
       "      <th>4</th>\n",
       "      <td>5.4</td>\n",
       "      <td>3.9</td>\n",
       "      <td>1.7</td>\n",
       "      <td>0.4</td>\n",
       "      <td>Iris-setosa</td>\n",
       "    </tr>\n",
       "  </tbody>\n",
       "</table>\n",
       "</div>"
      ],
      "text/plain": [
       "   5.1  3.5  1.4  0.2  Iris-setosa\n",
       "0  4.9  3.0  1.4  0.2  Iris-setosa\n",
       "1  4.7  3.2  1.3  0.2  Iris-setosa\n",
       "2  4.6  3.1  1.5  0.2  Iris-setosa\n",
       "3  5.0  3.6  1.4  0.2  Iris-setosa\n",
       "4  5.4  3.9  1.7  0.4  Iris-setosa"
      ]
     },
     "execution_count": 4,
     "metadata": {},
     "output_type": "execute_result"
    }
   ],
   "source": [
    "dataset = pd.read_csv('/kaggle/input/iris-dataset/iris.data')\n",
    "dataset.head()"
   ]
  },
  {
   "cell_type": "code",
   "execution_count": 5,
   "id": "239bd8e4",
   "metadata": {
    "execution": {
     "iopub.execute_input": "2023-04-06T06:49:43.529559Z",
     "iopub.status.busy": "2023-04-06T06:49:43.528640Z",
     "iopub.status.idle": "2023-04-06T06:49:43.548689Z",
     "shell.execute_reply": "2023-04-06T06:49:43.547290Z"
    },
    "papermill": {
     "duration": 0.028073,
     "end_time": "2023-04-06T06:49:43.551752",
     "exception": false,
     "start_time": "2023-04-06T06:49:43.523679",
     "status": "completed"
    },
    "tags": []
   },
   "outputs": [
    {
     "name": "stdout",
     "output_type": "stream",
     "text": [
      "     5.1  3.5  1.4  0.2\n",
      "0    4.9  3.0  1.4  0.2\n",
      "1    4.7  3.2  1.3  0.2\n",
      "2    4.6  3.1  1.5  0.2\n",
      "3    5.0  3.6  1.4  0.2\n",
      "4    5.4  3.9  1.7  0.4\n",
      "..   ...  ...  ...  ...\n",
      "144  6.7  3.0  5.2  2.3\n",
      "145  6.3  2.5  5.0  1.9\n",
      "146  6.5  3.0  5.2  2.0\n",
      "147  6.2  3.4  5.4  2.3\n",
      "148  5.9  3.0  5.1  1.8\n",
      "\n",
      "[149 rows x 4 columns]\n",
      "0         Iris-setosa\n",
      "1         Iris-setosa\n",
      "2         Iris-setosa\n",
      "3         Iris-setosa\n",
      "4         Iris-setosa\n",
      "            ...      \n",
      "144    Iris-virginica\n",
      "145    Iris-virginica\n",
      "146    Iris-virginica\n",
      "147    Iris-virginica\n",
      "148    Iris-virginica\n",
      "Name: Iris-setosa, Length: 149, dtype: object\n"
     ]
    },
    {
     "name": "stderr",
     "output_type": "stream",
     "text": [
      "/opt/conda/lib/python3.7/site-packages/ipykernel_launcher.py:1: FutureWarning: In a future version of pandas all arguments of DataFrame.drop except for the argument 'labels' will be keyword-only\n",
      "  \"\"\"Entry point for launching an IPython kernel.\n"
     ]
    }
   ],
   "source": [
    "x = dataset.drop('Iris-setosa', 1)\n",
    "y = dataset['Iris-setosa']\n",
    "print(x)\n",
    "print(y)"
   ]
  },
  {
   "cell_type": "code",
   "execution_count": 6,
   "id": "f10a1668",
   "metadata": {
    "execution": {
     "iopub.execute_input": "2023-04-06T06:49:43.561910Z",
     "iopub.status.busy": "2023-04-06T06:49:43.561144Z",
     "iopub.status.idle": "2023-04-06T06:49:44.684610Z",
     "shell.execute_reply": "2023-04-06T06:49:44.683235Z"
    },
    "papermill": {
     "duration": 1.132429,
     "end_time": "2023-04-06T06:49:44.688202",
     "exception": false,
     "start_time": "2023-04-06T06:49:43.555773",
     "status": "completed"
    },
    "tags": []
   },
   "outputs": [],
   "source": [
    "# Splitting dataset into training set & test set\n",
    "from sklearn.model_selection import train_test_split\n",
    "x_train, x_test, y_train, y_test = train_test_split(x, y, test_size=0.2, random_state=0)"
   ]
  },
  {
   "cell_type": "code",
   "execution_count": 7,
   "id": "45b81a71",
   "metadata": {
    "execution": {
     "iopub.execute_input": "2023-04-06T06:49:44.698559Z",
     "iopub.status.busy": "2023-04-06T06:49:44.697665Z",
     "iopub.status.idle": "2023-04-06T06:49:44.877547Z",
     "shell.execute_reply": "2023-04-06T06:49:44.876158Z"
    },
    "papermill": {
     "duration": 0.188241,
     "end_time": "2023-04-06T06:49:44.880664",
     "exception": false,
     "start_time": "2023-04-06T06:49:44.692423",
     "status": "completed"
    },
    "tags": []
   },
   "outputs": [
    {
     "name": "stdout",
     "output_type": "stream",
     "text": [
      "[[-2.23539674e+00  2.13243304e-01 -2.70343602e-01  8.11635722e-02]\n",
      " [-5.07500873e-01 -1.60330404e+00  1.49361599e-01  1.90547238e-01]\n",
      " [ 5.02071965e-01 -1.75189190e-01 -2.98562950e-01 -2.19523369e-02]\n",
      " [ 6.47767286e-01  3.49762017e-01  6.05639099e-01 -9.03805782e-02]\n",
      " [-2.45705934e+00  1.00562833e+00  1.53044146e-01 -4.21834532e-02]\n",
      " [ 3.05848188e-01 -1.62438883e+00  9.47218844e-01 -1.48594912e-01]\n",
      " [ 1.26270990e+00  4.06976287e-01  1.62922934e-01 -2.19134996e-01]\n",
      " [ 5.19006822e-01 -1.76348912e+00 -8.25323645e-01  4.31343301e-02]\n",
      " [ 1.15895107e+00  6.21749445e-01 -5.74501933e-01  1.21367372e-02]\n",
      " [-2.38302139e+00 -7.11034264e-01  8.05977974e-02 -7.47040925e-02]\n",
      " [ 1.44029831e+00  2.60083654e-01  1.57087914e-01  1.16260882e-01]\n",
      " [-2.42222932e+00  1.58563339e-02  9.64457454e-02 -1.40548150e-01]\n",
      " [-5.42003628e-01 -1.91455450e+00  2.04350355e-01 -5.19481692e-02]\n",
      " [ 1.39168512e+00 -4.76844610e-01  9.74735777e-01  2.65342540e-01]\n",
      " [ 1.90245088e+00  1.03665700e+00  6.23012637e-01  2.10678676e-01]\n",
      " [ 2.31421923e+00  2.57481550e+00 -1.18224434e-01 -2.68791079e-01]\n",
      " [ 9.39948064e-02 -8.21705316e-01 -3.36803747e-01 -2.09829905e-01]\n",
      " [-1.01977123e-01 -1.09185742e+00 -3.58675788e-01  6.03272439e-02]\n",
      " [ 1.17711725e+00 -9.28769866e-01 -4.14719412e-01 -1.27484562e-02]\n",
      " [ 1.78978920e+00 -1.81865702e-01  3.22124984e-01  9.49178924e-02]\n",
      " [ 9.03813756e-01 -6.14893219e-01  7.99685778e-01  1.71337085e-02]\n",
      " [ 2.17417051e-01 -1.15816344e+00  5.64855540e-02 -2.79015536e-01]\n",
      " [ 1.50523912e+00 -8.93325482e-01 -7.24422276e-02  2.16039408e-01]\n",
      " [ 1.08931019e+00 -7.26801335e-01  4.95968930e-01 -4.93674240e-02]\n",
      " [ 6.43508268e-01  5.70401285e-01 -1.07534538e-01  3.73881449e-03]\n",
      " [ 9.40155076e-01  3.61753271e-02  3.16361823e-01 -1.41162613e-02]\n",
      " [ 3.60189503e-01 -1.03277878e-01  1.84441467e-01  3.48884694e-02]\n",
      " [-1.92816960e+00  3.32592037e-01 -2.70474068e-01  2.37837195e-01]\n",
      " [-1.09842954e-01 -4.90823346e-01  1.70783635e-01  1.02654549e-01]\n",
      " [ 2.74624978e-01 -1.01501164e+00 -2.38815815e-01  1.56187217e-03]\n",
      " [ 1.43232075e-01 -3.49033907e-01  6.46970023e-01 -2.65109906e-01]\n",
      " [ 9.96444886e-01 -1.37148214e+00 -7.44284940e-01  1.35429472e-01]\n",
      " [ 1.60749561e+00  1.00316799e+00  2.88819196e-01 -6.38266351e-02]\n",
      " [ 1.85600660e-01 -6.38817526e-01  6.25218432e-02 -6.49418037e-02]\n",
      " [ 1.26569541e+00 -4.87462191e-01 -4.20242418e-02  1.36287177e-01]\n",
      " [-2.29566049e+00 -9.55010084e-02 -1.56057717e-01  4.44468329e-02]\n",
      " [-2.31989612e+00  1.75985188e+00 -4.46293610e-01  1.97483659e-01]\n",
      " [ 2.15261710e+00  1.92038699e+00  4.00145421e-01  1.05389899e-01]\n",
      " [-4.12393035e-01 -2.07232553e+00  5.56698450e-02  9.04271269e-03]\n",
      " [-2.31700138e+00  8.05905127e-01  1.75567462e-01  5.48645493e-02]\n",
      " [-2.32609854e+00  1.36915858e+00  1.84836693e-02  1.87163714e-01]\n",
      " [ 3.57446883e-01 -1.78189904e+00 -7.53761944e-02  5.77456032e-02]\n",
      " [-2.49461792e+00  5.28785364e-01  2.70174179e-02 -4.08181915e-02]\n",
      " [ 1.71605039e+00 -1.90237955e-01  2.38576624e-01  2.62915647e-02]\n",
      " [ 1.27933155e+00  3.31705009e-01 -2.85035584e-01  6.69552065e-02]\n",
      " [-2.32881303e+00  1.14549819e-01 -8.69489282e-02 -2.96922887e-02]\n",
      " [ 1.07455806e-01 -1.33408357e+00 -2.16162034e-01 -5.80637480e-02]\n",
      " [ 2.23030406e+00  4.59348181e-01 -6.83356392e-01 -2.34908358e-01]\n",
      " [ 2.21794961e-01 -8.95282041e-01  9.72360069e-02 -1.14806783e-01]\n",
      " [-2.71298182e+00 -1.08629674e+00  1.66655813e-01 -2.97465792e-02]\n",
      " [ 1.86855536e+00  1.02744402e+00 -4.36877024e-01 -2.15590249e-01]\n",
      " [ 1.27269705e+00  9.70519702e-01  9.30967056e-01  1.93106508e-02]\n",
      " [ 2.12595205e+00  5.84090064e-01 -2.28710311e-01  6.02803239e-02]\n",
      " [ 1.10291821e+00 -3.31646531e-01  9.85725244e-02  1.21013742e-01]\n",
      " [-2.48250714e+00 -5.04894177e-01  1.33539099e-01 -5.74083205e-02]\n",
      " [-2.29702477e+00 -8.28808490e-01 -2.47370281e-01 -4.05288444e-03]\n",
      " [ 1.94999893e+00 -6.84757066e-01 -4.41942499e-01 -8.80496665e-02]\n",
      " [ 1.19922924e+00 -1.18689979e+00  5.37038923e-01  8.92504931e-02]\n",
      " [-2.64225664e+00 -6.07498402e-01  3.00766285e-01 -7.68292877e-02]\n",
      " [ 1.49875163e+00  6.53022273e-01  6.25522293e-01  1.87009861e-01]\n",
      " [-2.45238229e+00 -4.56525119e-01  3.77998901e-02  2.08783334e-02]\n",
      " [ 1.53539209e+00 -4.20944030e-01 -1.37963724e-02  5.46129246e-02]\n",
      " [ 1.76721699e+00  6.81759816e-01 -3.27930540e-02  1.95307469e-01]\n",
      " [-2.06701031e+00  3.58089661e-01  3.16353301e-01  1.70673900e-01]\n",
      " [-2.19343212e+00  1.37698006e+00  5.08186435e-02  4.29392712e-03]\n",
      " [ 1.78738281e+00  5.90597854e-01 -7.42191321e-01 -2.04564661e-01]\n",
      " [-2.01097745e+00  1.31148564e+00 -3.56721157e-01  6.17968954e-02]\n",
      " [-2.26552158e+00  1.64874247e-01 -1.74604393e-01  2.87691832e-03]\n",
      " [-2.54140661e+00 -8.03310078e-02  3.39137549e-01 -4.56253424e-02]\n",
      " [ 1.00524290e+00 -2.09700748e-01 -4.31206438e-01  1.04277274e-01]\n",
      " [ 1.95091705e+00  8.66052203e-01  3.23402894e-01  4.29820085e-02]\n",
      " [ 1.36522335e+00 -5.75836855e-02  1.36612053e-01 -2.40578300e-01]\n",
      " [-2.15999450e+00 -7.70111809e-01 -2.51477386e-01  9.71426503e-02]\n",
      " [-2.29567455e+00 -3.07507206e-01 -2.33250248e-01  1.64303401e-01]\n",
      " [-2.35288248e+00 -4.50659009e-01  6.20511207e-02 -1.16274007e-01]\n",
      " [ 6.53969699e-01  7.40455308e-01  1.40861819e-01 -8.00606334e-02]\n",
      " [ 1.18771164e+00 -6.31889786e-02 -7.61553707e-01  4.19236737e-02]\n",
      " [-2.14500814e+00  5.70356675e-01 -4.80368695e-01  1.96166965e-01]\n",
      " [-2.32272951e+00  2.17224438e-02  1.20696976e-01 -2.77700490e-01]\n",
      " [ 7.95824033e-01  2.44531602e-01 -4.96527661e-01  1.02811697e-01]\n",
      " [-2.74020296e+00  1.66349462e+00  8.13670952e-02 -2.32131926e-01]\n",
      " [ 2.82993305e+00  4.77116420e-01 -8.95571603e-01 -1.21826987e-01]\n",
      " [ 8.54737571e-01  3.19746303e-02 -6.24933579e-01 -2.88278492e-02]\n",
      " [ 2.19382468e+00  2.65285374e+00 -4.84883315e-01 -2.03752980e-01]\n",
      " [ 2.69814971e-01 -2.48385051e-01  4.71659093e-01 -1.99971492e-01]\n",
      " [-2.57607555e+00  2.02898025e+00 -4.51096382e-02 -4.85022052e-02]\n",
      " [ 8.43697024e-01 -1.61044705e-02  3.95933544e-01 -9.68021509e-04]\n",
      " [-2.40148671e+00  2.56451990e+00  7.68099855e-02  5.13280679e-02]\n",
      " [ 1.94787528e+00  9.12465891e-01  2.19579942e-01  1.66986109e-01]\n",
      " [-2.00931403e+00  3.19758270e-01 -4.21403301e-01  9.14964579e-03]\n",
      " [-2.22327189e+00 -6.08430039e-01 -8.66293890e-02 -5.52831252e-02]\n",
      " [ 2.36732026e+00  3.06038664e-01 -7.64656029e-01 -1.38562544e-02]\n",
      " [ 1.01585135e+00  8.67886337e-01 -7.00848201e-01  3.90928354e-02]\n",
      " [ 1.47606052e+00  1.03312712e+00  9.43027438e-01  2.90712919e-02]\n",
      " [ 1.74878490e+00  8.41225399e-01  9.97885728e-01 -5.67504930e-02]\n",
      " [ 9.94676639e-01 -6.51269240e-01  7.00129197e-02 -1.90107993e-01]\n",
      " [ 7.92796337e-01  5.02951487e-01 -5.23158081e-01  1.06959230e-01]\n",
      " [ 8.79905388e-01 -6.05627882e-02  5.07840240e-01 -1.70689569e-01]\n",
      " [ 7.73168985e-02 -1.59445883e+00 -1.97615357e-01 -1.64938334e-02]\n",
      " [ 1.39232049e+00  2.49205257e-01  1.42424239e-02 -1.58144114e-01]\n",
      " [ 1.78809766e+00  3.85849270e-01  2.32422065e-01  3.87278279e-01]\n",
      " [ 5.64027263e-01 -4.34159849e-01 -3.23145916e-01 -2.77595984e-01]\n",
      " [ 5.89299909e-01 -2.55182798e-01  6.00121878e-02 -4.12729893e-02]\n",
      " [-2.14816879e+00  1.33249696e-01  8.82315359e-02  6.18429198e-02]\n",
      " [ 1.75139229e-01 -8.08871549e-01 -1.85874514e-01  1.88576442e-02]\n",
      " [ 1.92818374e+00  6.10138461e-01  4.09330444e-01  2.44613145e-01]\n",
      " [ 1.08931019e+00 -7.26801335e-01  4.95968930e-01 -4.93674240e-02]\n",
      " [-2.38772657e+00  3.27106790e-01  4.14569898e-02  1.01947258e-01]\n",
      " [-5.71318289e-02 -1.09407361e+00  5.07154997e-01 -3.93049427e-02]\n",
      " [ 2.24808594e-01 -1.36570812e+00  4.66738952e-02  9.02253530e-04]\n",
      " [ 4.05599849e-01 -4.39475185e-01 -2.96183760e-01  1.11052471e-01]\n",
      " [-1.03290771e-02 -2.72951038e-01  2.72227398e-01 -1.54354360e-01]\n",
      " [-2.26688586e+00 -5.68433235e-01 -2.65916958e-01 -4.56227990e-02]\n",
      " [-2.88045013e+00  3.19666174e-01  3.45304304e-01  1.17747676e-02]\n",
      " [-2.27460467e+00  9.40133903e-01 -2.54495654e-01  1.53195150e-02]\n",
      " [ 1.78677557e+00  2.88560381e-01  3.72687096e-01 -2.07911439e-02]\n",
      " [ 1.18011682e+00 -1.61120215e+00 -5.42474056e-01  2.22817149e-01]\n",
      " [ 3.25012099e+00  8.99530054e-02 -7.50809124e-01  4.94604525e-02]\n",
      " [-2.33789612e+00  8.89809475e-01 -1.66840189e-01 -1.72496920e-02]]\n"
     ]
    }
   ],
   "source": [
    "from sklearn.preprocessing import StandardScaler\n",
    "sc = StandardScaler()\n",
    "x_train = sc.fit_transform(x_train)\n",
    "x_test = sc.fit_transform(x_test)\n",
    "\n",
    "from sklearn.decomposition import PCA\n",
    "pca = PCA()\n",
    "x_train = pca.fit_transform(x_train)\n",
    "x_test = pca.fit_transform(x_test)\n",
    "print(x_train)"
   ]
  },
  {
   "cell_type": "code",
   "execution_count": 8,
   "id": "6f41a6e3",
   "metadata": {
    "execution": {
     "iopub.execute_input": "2023-04-06T06:49:44.891318Z",
     "iopub.status.busy": "2023-04-06T06:49:44.890884Z",
     "iopub.status.idle": "2023-04-06T06:49:44.902326Z",
     "shell.execute_reply": "2023-04-06T06:49:44.900140Z"
    },
    "papermill": {
     "duration": 0.019832,
     "end_time": "2023-04-06T06:49:44.904967",
     "exception": false,
     "start_time": "2023-04-06T06:49:44.885135",
     "status": "completed"
    },
    "tags": []
   },
   "outputs": [
    {
     "name": "stdout",
     "output_type": "stream",
     "text": [
      "[[-2.23539674]\n",
      " [-0.50750087]\n",
      " [ 0.50207197]\n",
      " [ 0.64776729]\n",
      " [-2.45705934]\n",
      " [ 0.30584819]\n",
      " [ 1.2627099 ]\n",
      " [ 0.51900682]\n",
      " [ 1.15895107]\n",
      " [-2.38302139]\n",
      " [ 1.44029831]\n",
      " [-2.42222932]\n",
      " [-0.54200363]\n",
      " [ 1.39168512]\n",
      " [ 1.90245088]\n",
      " [ 2.31421923]\n",
      " [ 0.09399481]\n",
      " [-0.10197712]\n",
      " [ 1.17711725]\n",
      " [ 1.7897892 ]\n",
      " [ 0.90381376]\n",
      " [ 0.21741705]\n",
      " [ 1.50523912]\n",
      " [ 1.08931019]\n",
      " [ 0.64350827]\n",
      " [ 0.94015508]\n",
      " [ 0.3601895 ]\n",
      " [-1.9281696 ]\n",
      " [-0.10984295]\n",
      " [ 0.27462498]\n",
      " [ 0.14323207]\n",
      " [ 0.99644489]\n",
      " [ 1.60749561]\n",
      " [ 0.18560066]\n",
      " [ 1.26569541]\n",
      " [-2.29566049]\n",
      " [-2.31989612]\n",
      " [ 2.1526171 ]\n",
      " [-0.41239303]\n",
      " [-2.31700138]\n",
      " [-2.32609854]\n",
      " [ 0.35744688]\n",
      " [-2.49461792]\n",
      " [ 1.71605039]\n",
      " [ 1.27933155]\n",
      " [-2.32881303]\n",
      " [ 0.10745581]\n",
      " [ 2.23030406]\n",
      " [ 0.22179496]\n",
      " [-2.71298182]\n",
      " [ 1.86855536]\n",
      " [ 1.27269705]\n",
      " [ 2.12595205]\n",
      " [ 1.10291821]\n",
      " [-2.48250714]\n",
      " [-2.29702477]\n",
      " [ 1.94999893]\n",
      " [ 1.19922924]\n",
      " [-2.64225664]\n",
      " [ 1.49875163]\n",
      " [-2.45238229]\n",
      " [ 1.53539209]\n",
      " [ 1.76721699]\n",
      " [-2.06701031]\n",
      " [-2.19343212]\n",
      " [ 1.78738281]\n",
      " [-2.01097745]\n",
      " [-2.26552158]\n",
      " [-2.54140661]\n",
      " [ 1.0052429 ]\n",
      " [ 1.95091705]\n",
      " [ 1.36522335]\n",
      " [-2.1599945 ]\n",
      " [-2.29567455]\n",
      " [-2.35288248]\n",
      " [ 0.6539697 ]\n",
      " [ 1.18771164]\n",
      " [-2.14500814]\n",
      " [-2.32272951]\n",
      " [ 0.79582403]\n",
      " [-2.74020296]\n",
      " [ 2.82993305]\n",
      " [ 0.85473757]\n",
      " [ 2.19382468]\n",
      " [ 0.26981497]\n",
      " [-2.57607555]\n",
      " [ 0.84369702]\n",
      " [-2.40148671]\n",
      " [ 1.94787528]\n",
      " [-2.00931403]\n",
      " [-2.22327189]\n",
      " [ 2.36732026]\n",
      " [ 1.01585135]\n",
      " [ 1.47606052]\n",
      " [ 1.7487849 ]\n",
      " [ 0.99467664]\n",
      " [ 0.79279634]\n",
      " [ 0.87990539]\n",
      " [ 0.0773169 ]\n",
      " [ 1.39232049]\n",
      " [ 1.78809766]\n",
      " [ 0.56402726]\n",
      " [ 0.58929991]\n",
      " [-2.14816879]\n",
      " [ 0.17513923]\n",
      " [ 1.92818374]\n",
      " [ 1.08931019]\n",
      " [-2.38772657]\n",
      " [-0.05713183]\n",
      " [ 0.22480859]\n",
      " [ 0.40559985]\n",
      " [-0.01032908]\n",
      " [-2.26688586]\n",
      " [-2.88045013]\n",
      " [-2.27460467]\n",
      " [ 1.78677557]\n",
      " [ 1.18011682]\n",
      " [ 3.25012099]\n",
      " [-2.33789612]]\n"
     ]
    }
   ],
   "source": [
    "explained_variance = pca.explained_variance_ratio_\n",
    "from sklearn.decomposition import PCA\n",
    "pca = PCA(n_components = 1)\n",
    "x_train = pca.fit_transform(x_train)\n",
    "x_test = pca.fit_transform(x_test)\n",
    "print(x_train)"
   ]
  },
  {
   "cell_type": "code",
   "execution_count": 9,
   "id": "8295995e",
   "metadata": {
    "execution": {
     "iopub.execute_input": "2023-04-06T06:49:44.916456Z",
     "iopub.status.busy": "2023-04-06T06:49:44.915261Z",
     "iopub.status.idle": "2023-04-06T06:49:45.307090Z",
     "shell.execute_reply": "2023-04-06T06:49:45.305576Z"
    },
    "papermill": {
     "duration": 0.400355,
     "end_time": "2023-04-06T06:49:45.309790",
     "exception": false,
     "start_time": "2023-04-06T06:49:44.909435",
     "status": "completed"
    },
    "tags": []
   },
   "outputs": [
    {
     "name": "stdout",
     "output_type": "stream",
     "text": [
      "27         Iris-setosa\n",
      "97     Iris-versicolor\n",
      "96     Iris-versicolor\n",
      "69     Iris-versicolor\n",
      "18         Iris-setosa\n",
      "            ...       \n",
      "9          Iris-setosa\n",
      "103     Iris-virginica\n",
      "67     Iris-versicolor\n",
      "117     Iris-virginica\n",
      "47         Iris-setosa\n",
      "Name: Iris-setosa, Length: 119, dtype: object\n"
     ]
    }
   ],
   "source": [
    "from sklearn.ensemble import RandomForestClassifier\n",
    "classifier = RandomForestClassifier(max_depth=2, random_state=0)\n",
    "classifier.fit(x_train, y_train)\n",
    "\n",
    "# Predicting test set results\n",
    "y_pred = classifier.predict(x_test)\n",
    "print(y_train)"
   ]
  },
  {
   "cell_type": "code",
   "execution_count": 10,
   "id": "c5ab9de7",
   "metadata": {
    "execution": {
     "iopub.execute_input": "2023-04-06T06:49:45.320688Z",
     "iopub.status.busy": "2023-04-06T06:49:45.320294Z",
     "iopub.status.idle": "2023-04-06T06:49:45.325868Z",
     "shell.execute_reply": "2023-04-06T06:49:45.324695Z"
    },
    "papermill": {
     "duration": 0.014479,
     "end_time": "2023-04-06T06:49:45.328857",
     "exception": false,
     "start_time": "2023-04-06T06:49:45.314378",
     "status": "completed"
    },
    "tags": []
   },
   "outputs": [
    {
     "name": "stdout",
     "output_type": "stream",
     "text": [
      "['Iris-virginica' 'Iris-virginica' 'Iris-versicolor' 'Iris-versicolor'\n",
      " 'Iris-setosa' 'Iris-virginica' 'Iris-virginica' 'Iris-versicolor'\n",
      " 'Iris-virginica' 'Iris-versicolor' 'Iris-setosa' 'Iris-setosa'\n",
      " 'Iris-versicolor' 'Iris-setosa' 'Iris-setosa' 'Iris-virginica'\n",
      " 'Iris-virginica' 'Iris-versicolor' 'Iris-setosa' 'Iris-setosa'\n",
      " 'Iris-setosa' 'Iris-setosa' 'Iris-virginica' 'Iris-setosa'\n",
      " 'Iris-versicolor' 'Iris-versicolor' 'Iris-versicolor' 'Iris-setosa'\n",
      " 'Iris-setosa' 'Iris-virginica']\n"
     ]
    }
   ],
   "source": [
    "print(y_pred)"
   ]
  },
  {
   "cell_type": "code",
   "execution_count": 11,
   "id": "40a4d371",
   "metadata": {
    "execution": {
     "iopub.execute_input": "2023-04-06T06:49:45.339585Z",
     "iopub.status.busy": "2023-04-06T06:49:45.339164Z",
     "iopub.status.idle": "2023-04-06T06:49:45.351497Z",
     "shell.execute_reply": "2023-04-06T06:49:45.350193Z"
    },
    "papermill": {
     "duration": 0.020716,
     "end_time": "2023-04-06T06:49:45.353976",
     "exception": false,
     "start_time": "2023-04-06T06:49:45.333260",
     "status": "completed"
    },
    "tags": []
   },
   "outputs": [
    {
     "name": "stdout",
     "output_type": "stream",
     "text": [
      "[[12  0  0]\n",
      " [ 0  9  1]\n",
      " [ 0  0  8]]\n",
      "0.9666666666666667\n"
     ]
    }
   ],
   "source": [
    "from sklearn.metrics import confusion_matrix\n",
    "from sklearn.metrics import accuracy_score\n",
    "cm = confusion_matrix(y_test, y_pred)\n",
    "print(cm)\n",
    "print(accuracy_score(y_test, y_pred))"
   ]
  }
 ],
 "metadata": {
  "kernelspec": {
   "display_name": "Python 3",
   "language": "python",
   "name": "python3"
  },
  "language_info": {
   "codemirror_mode": {
    "name": "ipython",
    "version": 3
   },
   "file_extension": ".py",
   "mimetype": "text/x-python",
   "name": "python",
   "nbconvert_exporter": "python",
   "pygments_lexer": "ipython3",
   "version": "3.7.12"
  },
  "papermill": {
   "default_parameters": {},
   "duration": 13.515754,
   "end_time": "2023-04-06T06:49:46.383344",
   "environment_variables": {},
   "exception": null,
   "input_path": "__notebook__.ipynb",
   "output_path": "__notebook__.ipynb",
   "parameters": {},
   "start_time": "2023-04-06T06:49:32.867590",
   "version": "2.4.0"
  }
 },
 "nbformat": 4,
 "nbformat_minor": 5
}
