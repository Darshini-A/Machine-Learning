{
 "cells": [
  {
   "cell_type": "code",
   "execution_count": 1,
   "id": "dc244aba",
   "metadata": {
    "_cell_guid": "b1076dfc-b9ad-4769-8c92-a6c4dae69d19",
    "_uuid": "8f2839f25d086af736a60e9eeb907d3b93b6e0e5",
    "execution": {
     "iopub.execute_input": "2023-04-11T19:45:16.675467Z",
     "iopub.status.busy": "2023-04-11T19:45:16.674633Z",
     "iopub.status.idle": "2023-04-11T19:45:16.695230Z",
     "shell.execute_reply": "2023-04-11T19:45:16.694204Z"
    },
    "papermill": {
     "duration": 0.029427,
     "end_time": "2023-04-11T19:45:16.697489",
     "exception": false,
     "start_time": "2023-04-11T19:45:16.668062",
     "status": "completed"
    },
    "tags": []
   },
   "outputs": [
    {
     "name": "stdout",
     "output_type": "stream",
     "text": [
      "/kaggle/input/dataset/Data.csv\n"
     ]
    }
   ],
   "source": [
    "# This Python 3 environment comes with many helpful analytics libraries installed\n",
    "# It is defined by the kaggle/python Docker image: https://github.com/kaggle/docker-python\n",
    "# For example, here's several helpful packages to load\n",
    "\n",
    "import numpy as np # linear algebra\n",
    "import pandas as pd # data processing, CSV file I/O (e.g. pd.read_csv)\n",
    "\n",
    "# Input data files are available in the read-only \"../input/\" directory\n",
    "# For example, running this (by clicking run or pressing Shift+Enter) will list all files under the input directory\n",
    "\n",
    "import os\n",
    "for dirname, _, filenames in os.walk('/kaggle/input'):\n",
    "    for filename in filenames:\n",
    "        print(os.path.join(dirname, filename))\n",
    "\n",
    "# You can write up to 20GB to the current directory (/kaggle/working/) that gets preserved as output when you create a version using \"Save & Run All\" \n",
    "# You can also write temporary files to /kaggle/temp/, but they won't be saved outside of the current session"
   ]
  },
  {
   "cell_type": "code",
   "execution_count": 2,
   "id": "7a80746f",
   "metadata": {
    "execution": {
     "iopub.execute_input": "2023-04-11T19:45:16.705665Z",
     "iopub.status.busy": "2023-04-11T19:45:16.705388Z",
     "iopub.status.idle": "2023-04-11T19:45:16.709909Z",
     "shell.execute_reply": "2023-04-11T19:45:16.708873Z"
    },
    "papermill": {
     "duration": 0.011125,
     "end_time": "2023-04-11T19:45:16.712057",
     "exception": false,
     "start_time": "2023-04-11T19:45:16.700932",
     "status": "completed"
    },
    "tags": []
   },
   "outputs": [],
   "source": [
    "# Importing libraries\n",
    "import numpy as np\n",
    "import matplotlib.pyplot as plt\n",
    "import pandas as pd"
   ]
  },
  {
   "cell_type": "code",
   "execution_count": 3,
   "id": "b0440d0d",
   "metadata": {
    "execution": {
     "iopub.execute_input": "2023-04-11T19:45:16.720121Z",
     "iopub.status.busy": "2023-04-11T19:45:16.719487Z",
     "iopub.status.idle": "2023-04-11T19:45:16.755828Z",
     "shell.execute_reply": "2023-04-11T19:45:16.754928Z"
    },
    "papermill": {
     "duration": 0.042512,
     "end_time": "2023-04-11T19:45:16.757969",
     "exception": false,
     "start_time": "2023-04-11T19:45:16.715457",
     "status": "completed"
    },
    "tags": []
   },
   "outputs": [
    {
     "data": {
      "text/html": [
       "<div>\n",
       "<style scoped>\n",
       "    .dataframe tbody tr th:only-of-type {\n",
       "        vertical-align: middle;\n",
       "    }\n",
       "\n",
       "    .dataframe tbody tr th {\n",
       "        vertical-align: top;\n",
       "    }\n",
       "\n",
       "    .dataframe thead th {\n",
       "        text-align: right;\n",
       "    }\n",
       "</style>\n",
       "<table border=\"1\" class=\"dataframe\">\n",
       "  <thead>\n",
       "    <tr style=\"text-align: right;\">\n",
       "      <th></th>\n",
       "      <th>Country</th>\n",
       "      <th>Age</th>\n",
       "      <th>Salary</th>\n",
       "      <th>Purchase</th>\n",
       "    </tr>\n",
       "  </thead>\n",
       "  <tbody>\n",
       "    <tr>\n",
       "      <th>0</th>\n",
       "      <td>france</td>\n",
       "      <td>44.0</td>\n",
       "      <td>72000.0</td>\n",
       "      <td>no</td>\n",
       "    </tr>\n",
       "    <tr>\n",
       "      <th>1</th>\n",
       "      <td>spain</td>\n",
       "      <td>27.0</td>\n",
       "      <td>48000.0</td>\n",
       "      <td>yes</td>\n",
       "    </tr>\n",
       "    <tr>\n",
       "      <th>2</th>\n",
       "      <td>germany</td>\n",
       "      <td>30.0</td>\n",
       "      <td>54000.0</td>\n",
       "      <td>no</td>\n",
       "    </tr>\n",
       "    <tr>\n",
       "      <th>3</th>\n",
       "      <td>spain</td>\n",
       "      <td>38.0</td>\n",
       "      <td>61000.0</td>\n",
       "      <td>no</td>\n",
       "    </tr>\n",
       "    <tr>\n",
       "      <th>4</th>\n",
       "      <td>germany</td>\n",
       "      <td>40.0</td>\n",
       "      <td>NaN</td>\n",
       "      <td>yes</td>\n",
       "    </tr>\n",
       "    <tr>\n",
       "      <th>5</th>\n",
       "      <td>france</td>\n",
       "      <td>35.0</td>\n",
       "      <td>58000.0</td>\n",
       "      <td>yes</td>\n",
       "    </tr>\n",
       "    <tr>\n",
       "      <th>6</th>\n",
       "      <td>spain</td>\n",
       "      <td>NaN</td>\n",
       "      <td>52000.0</td>\n",
       "      <td>no</td>\n",
       "    </tr>\n",
       "    <tr>\n",
       "      <th>7</th>\n",
       "      <td>france</td>\n",
       "      <td>48.0</td>\n",
       "      <td>79000.0</td>\n",
       "      <td>yes</td>\n",
       "    </tr>\n",
       "    <tr>\n",
       "      <th>8</th>\n",
       "      <td>germany</td>\n",
       "      <td>50.0</td>\n",
       "      <td>83000.0</td>\n",
       "      <td>no</td>\n",
       "    </tr>\n",
       "    <tr>\n",
       "      <th>9</th>\n",
       "      <td>france</td>\n",
       "      <td>37.0</td>\n",
       "      <td>87000.0</td>\n",
       "      <td>yes</td>\n",
       "    </tr>\n",
       "  </tbody>\n",
       "</table>\n",
       "</div>"
      ],
      "text/plain": [
       "   Country   Age   Salary Purchase\n",
       "0   france  44.0  72000.0       no\n",
       "1    spain  27.0  48000.0      yes\n",
       "2  germany  30.0  54000.0       no\n",
       "3    spain  38.0  61000.0       no\n",
       "4  germany  40.0      NaN      yes\n",
       "5   france  35.0  58000.0      yes\n",
       "6    spain   NaN  52000.0       no\n",
       "7   france  48.0  79000.0      yes\n",
       "8  germany  50.0  83000.0       no\n",
       "9   france  37.0  87000.0      yes"
      ]
     },
     "execution_count": 3,
     "metadata": {},
     "output_type": "execute_result"
    }
   ],
   "source": [
    "# Importing dataset\n",
    "data = pd.read_csv('/kaggle/input/dataset/Data.csv')\n",
    "data"
   ]
  },
  {
   "cell_type": "code",
   "execution_count": 4,
   "id": "7fd08608",
   "metadata": {
    "execution": {
     "iopub.execute_input": "2023-04-11T19:45:16.766259Z",
     "iopub.status.busy": "2023-04-11T19:45:16.765733Z",
     "iopub.status.idle": "2023-04-11T19:45:16.773768Z",
     "shell.execute_reply": "2023-04-11T19:45:16.772706Z"
    },
    "papermill": {
     "duration": 0.014738,
     "end_time": "2023-04-11T19:45:16.775979",
     "exception": false,
     "start_time": "2023-04-11T19:45:16.761241",
     "status": "completed"
    },
    "tags": []
   },
   "outputs": [
    {
     "name": "stdout",
     "output_type": "stream",
     "text": [
      "[['france' 44.0 72000.0]\n",
      " ['spain' 27.0 48000.0]\n",
      " ['germany' 30.0 54000.0]\n",
      " ['spain' 38.0 61000.0]\n",
      " ['germany' 40.0 nan]\n",
      " ['france' 35.0 58000.0]\n",
      " ['spain' nan 52000.0]\n",
      " ['france' 48.0 79000.0]\n",
      " ['germany' 50.0 83000.0]\n",
      " ['france' 37.0 87000.0]]\n",
      "['no' 'yes' 'no' 'no' 'yes' 'yes' 'no' 'yes' 'no' 'yes']\n"
     ]
    }
   ],
   "source": [
    "x = data.iloc[:, :-1].values\n",
    "y = data.iloc[:, -1].values\n",
    "print(x)\n",
    "print(y)"
   ]
  },
  {
   "cell_type": "code",
   "execution_count": 5,
   "id": "91c9630c",
   "metadata": {
    "execution": {
     "iopub.execute_input": "2023-04-11T19:45:16.784253Z",
     "iopub.status.busy": "2023-04-11T19:45:16.783788Z",
     "iopub.status.idle": "2023-04-11T19:45:17.892652Z",
     "shell.execute_reply": "2023-04-11T19:45:17.891605Z"
    },
    "papermill": {
     "duration": 1.115349,
     "end_time": "2023-04-11T19:45:17.894757",
     "exception": false,
     "start_time": "2023-04-11T19:45:16.779408",
     "status": "completed"
    },
    "tags": []
   },
   "outputs": [
    {
     "name": "stdout",
     "output_type": "stream",
     "text": [
      "[['france' 44.0 72000.0]\n",
      " ['spain' 27.0 48000.0]\n",
      " ['germany' 30.0 54000.0]\n",
      " ['spain' 38.0 61000.0]\n",
      " ['germany' 40.0 66000.0]\n",
      " ['france' 35.0 58000.0]\n",
      " ['spain' 38.77777777777778 52000.0]\n",
      " ['france' 48.0 79000.0]\n",
      " ['germany' 50.0 83000.0]\n",
      " ['france' 37.0 87000.0]]\n"
     ]
    }
   ],
   "source": [
    "# preprocessing using SimpleImputer\n",
    "from sklearn.impute import SimpleImputer\n",
    "imputer = SimpleImputer(missing_values = np.nan, strategy='mean')\n",
    "imputer.fit(x[:, 1:3])\n",
    "x[:, 1:3] = imputer.transform(x[:, 1:3])\n",
    "print(x)"
   ]
  },
  {
   "cell_type": "code",
   "execution_count": 6,
   "id": "07def867",
   "metadata": {
    "execution": {
     "iopub.execute_input": "2023-04-11T19:45:17.903667Z",
     "iopub.status.busy": "2023-04-11T19:45:17.903330Z",
     "iopub.status.idle": "2023-04-11T19:45:17.926349Z",
     "shell.execute_reply": "2023-04-11T19:45:17.925272Z"
    },
    "papermill": {
     "duration": 0.03012,
     "end_time": "2023-04-11T19:45:17.928504",
     "exception": false,
     "start_time": "2023-04-11T19:45:17.898384",
     "status": "completed"
    },
    "tags": []
   },
   "outputs": [
    {
     "name": "stdout",
     "output_type": "stream",
     "text": [
      "[[1.0 0.0 0.0 44.0 72000.0]\n",
      " [0.0 0.0 1.0 27.0 48000.0]\n",
      " [0.0 1.0 0.0 30.0 54000.0]\n",
      " [0.0 0.0 1.0 38.0 61000.0]\n",
      " [0.0 1.0 0.0 40.0 66000.0]\n",
      " [1.0 0.0 0.0 35.0 58000.0]\n",
      " [0.0 0.0 1.0 38.77777777777778 52000.0]\n",
      " [1.0 0.0 0.0 48.0 79000.0]\n",
      " [0.0 1.0 0.0 50.0 83000.0]\n",
      " [1.0 0.0 0.0 37.0 87000.0]]\n"
     ]
    }
   ],
   "source": [
    "# preprocessing using ColumnTransformer\n",
    "from sklearn.compose import ColumnTransformer\n",
    "from sklearn.preprocessing import OneHotEncoder\n",
    "ct = ColumnTransformer(transformers = [('encoder', OneHotEncoder(), [0])], remainder='passthrough')\n",
    "x = np.array(ct.fit_transform(x))\n",
    "print(x)"
   ]
  },
  {
   "cell_type": "code",
   "execution_count": 7,
   "id": "ca154005",
   "metadata": {
    "execution": {
     "iopub.execute_input": "2023-04-11T19:45:17.937569Z",
     "iopub.status.busy": "2023-04-11T19:45:17.937241Z",
     "iopub.status.idle": "2023-04-11T19:45:17.942807Z",
     "shell.execute_reply": "2023-04-11T19:45:17.941514Z"
    },
    "papermill": {
     "duration": 0.011955,
     "end_time": "2023-04-11T19:45:17.944535",
     "exception": false,
     "start_time": "2023-04-11T19:45:17.932580",
     "status": "completed"
    },
    "tags": []
   },
   "outputs": [
    {
     "name": "stdout",
     "output_type": "stream",
     "text": [
      "[0 1 0 0 1 1 0 1 0 1]\n"
     ]
    }
   ],
   "source": [
    "# preprocessing using LabelEncoder\n",
    "from sklearn.preprocessing import LabelEncoder\n",
    "le = LabelEncoder()\n",
    "y = le.fit_transform(y)\n",
    "print(y)"
   ]
  },
  {
   "cell_type": "code",
   "execution_count": 8,
   "id": "7e3c70e9",
   "metadata": {
    "execution": {
     "iopub.execute_input": "2023-04-11T19:45:17.953479Z",
     "iopub.status.busy": "2023-04-11T19:45:17.953038Z",
     "iopub.status.idle": "2023-04-11T19:45:17.958947Z",
     "shell.execute_reply": "2023-04-11T19:45:17.958032Z"
    },
    "papermill": {
     "duration": 0.012901,
     "end_time": "2023-04-11T19:45:17.961080",
     "exception": false,
     "start_time": "2023-04-11T19:45:17.948179",
     "status": "completed"
    },
    "tags": []
   },
   "outputs": [],
   "source": [
    "# Splitting into dataset into training set & test set\n",
    "from sklearn.model_selection import train_test_split\n",
    "x_train, x_test, y_train, y_test = train_test_split(x, y, test_size=0.2, random_state=1)"
   ]
  },
  {
   "cell_type": "code",
   "execution_count": 9,
   "id": "d7693eee",
   "metadata": {
    "execution": {
     "iopub.execute_input": "2023-04-11T19:45:17.970190Z",
     "iopub.status.busy": "2023-04-11T19:45:17.969101Z",
     "iopub.status.idle": "2023-04-11T19:45:17.975229Z",
     "shell.execute_reply": "2023-04-11T19:45:17.974064Z"
    },
    "papermill": {
     "duration": 0.0125,
     "end_time": "2023-04-11T19:45:17.977250",
     "exception": false,
     "start_time": "2023-04-11T19:45:17.964750",
     "status": "completed"
    },
    "tags": []
   },
   "outputs": [
    {
     "name": "stdout",
     "output_type": "stream",
     "text": [
      "[[0.0 0.0 1.0 38.77777777777778 52000.0]\n",
      " [0.0 1.0 0.0 40.0 66000.0]\n",
      " [1.0 0.0 0.0 44.0 72000.0]\n",
      " [0.0 0.0 1.0 38.0 61000.0]\n",
      " [0.0 0.0 1.0 27.0 48000.0]\n",
      " [1.0 0.0 0.0 48.0 79000.0]\n",
      " [0.0 1.0 0.0 50.0 83000.0]\n",
      " [1.0 0.0 0.0 35.0 58000.0]]\n"
     ]
    }
   ],
   "source": [
    "print(x_train)"
   ]
  },
  {
   "cell_type": "code",
   "execution_count": 10,
   "id": "7f7f4258",
   "metadata": {
    "execution": {
     "iopub.execute_input": "2023-04-11T19:45:17.985736Z",
     "iopub.status.busy": "2023-04-11T19:45:17.985472Z",
     "iopub.status.idle": "2023-04-11T19:45:17.991231Z",
     "shell.execute_reply": "2023-04-11T19:45:17.989436Z"
    },
    "papermill": {
     "duration": 0.013102,
     "end_time": "2023-04-11T19:45:17.993873",
     "exception": false,
     "start_time": "2023-04-11T19:45:17.980771",
     "status": "completed"
    },
    "tags": []
   },
   "outputs": [
    {
     "name": "stdout",
     "output_type": "stream",
     "text": [
      "[[0.0 1.0 0.0 30.0 54000.0]\n",
      " [1.0 0.0 0.0 37.0 87000.0]]\n"
     ]
    }
   ],
   "source": [
    "print(x_test)"
   ]
  },
  {
   "cell_type": "code",
   "execution_count": 11,
   "id": "888f349c",
   "metadata": {
    "execution": {
     "iopub.execute_input": "2023-04-11T19:45:18.006268Z",
     "iopub.status.busy": "2023-04-11T19:45:18.005558Z",
     "iopub.status.idle": "2023-04-11T19:45:18.012313Z",
     "shell.execute_reply": "2023-04-11T19:45:18.010083Z"
    },
    "papermill": {
     "duration": 0.016135,
     "end_time": "2023-04-11T19:45:18.016018",
     "exception": false,
     "start_time": "2023-04-11T19:45:17.999883",
     "status": "completed"
    },
    "tags": []
   },
   "outputs": [
    {
     "name": "stdout",
     "output_type": "stream",
     "text": [
      "[0 1 0 0 1 1 0 1]\n"
     ]
    }
   ],
   "source": [
    "print(y_train)"
   ]
  },
  {
   "cell_type": "code",
   "execution_count": 12,
   "id": "030e5637",
   "metadata": {
    "execution": {
     "iopub.execute_input": "2023-04-11T19:45:18.026624Z",
     "iopub.status.busy": "2023-04-11T19:45:18.026278Z",
     "iopub.status.idle": "2023-04-11T19:45:18.033001Z",
     "shell.execute_reply": "2023-04-11T19:45:18.031117Z"
    },
    "papermill": {
     "duration": 0.014937,
     "end_time": "2023-04-11T19:45:18.035947",
     "exception": false,
     "start_time": "2023-04-11T19:45:18.021010",
     "status": "completed"
    },
    "tags": []
   },
   "outputs": [
    {
     "name": "stdout",
     "output_type": "stream",
     "text": [
      "[0 1]\n"
     ]
    }
   ],
   "source": [
    "print(y_test)"
   ]
  }
 ],
 "metadata": {
  "kernelspec": {
   "display_name": "Python 3",
   "language": "python",
   "name": "python3"
  },
  "language_info": {
   "codemirror_mode": {
    "name": "ipython",
    "version": 3
   },
   "file_extension": ".py",
   "mimetype": "text/x-python",
   "name": "python",
   "nbconvert_exporter": "python",
   "pygments_lexer": "ipython3",
   "version": "3.7.12"
  },
  "papermill": {
   "default_parameters": {},
   "duration": 10.916626,
   "end_time": "2023-04-11T19:45:18.663215",
   "environment_variables": {},
   "exception": null,
   "input_path": "__notebook__.ipynb",
   "output_path": "__notebook__.ipynb",
   "parameters": {},
   "start_time": "2023-04-11T19:45:07.746589",
   "version": "2.4.0"
  }
 },
 "nbformat": 4,
 "nbformat_minor": 5
}
