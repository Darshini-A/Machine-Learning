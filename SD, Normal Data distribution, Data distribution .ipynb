{
 "cells": [
  {
   "cell_type": "code",
   "execution_count": 1,
   "id": "7cdc3bad",
   "metadata": {
    "_cell_guid": "b1076dfc-b9ad-4769-8c92-a6c4dae69d19",
    "_uuid": "8f2839f25d086af736a60e9eeb907d3b93b6e0e5",
    "execution": {
     "iopub.execute_input": "2023-04-11T19:23:54.796987Z",
     "iopub.status.busy": "2023-04-11T19:23:54.796318Z",
     "iopub.status.idle": "2023-04-11T19:23:54.810697Z",
     "shell.execute_reply": "2023-04-11T19:23:54.809183Z"
    },
    "papermill": {
     "duration": 0.027818,
     "end_time": "2023-04-11T19:23:54.817514",
     "exception": false,
     "start_time": "2023-04-11T19:23:54.789696",
     "status": "completed"
    },
    "tags": []
   },
   "outputs": [],
   "source": [
    "# This Python 3 environment comes with many helpful analytics libraries installed\n",
    "# It is defined by the kaggle/python Docker image: https://github.com/kaggle/docker-python\n",
    "# For example, here's several helpful packages to load\n",
    "\n",
    "import numpy as np # linear algebra\n",
    "import pandas as pd # data processing, CSV file I/O (e.g. pd.read_csv)\n",
    "\n",
    "# Input data files are available in the read-only \"../input/\" directory\n",
    "# For example, running this (by clicking run or pressing Shift+Enter) will list all files under the input directory\n",
    "\n",
    "import os\n",
    "for dirname, _, filenames in os.walk('/kaggle/input'):\n",
    "    for filename in filenames:\n",
    "        print(os.path.join(dirname, filename))\n",
    "\n",
    "# You can write up to 20GB to the current directory (/kaggle/working/) that gets preserved as output when you create a version using \"Save & Run All\" \n",
    "# You can also write temporary files to /kaggle/temp/, but they won't be saved outside of the current session"
   ]
  },
  {
   "cell_type": "code",
   "execution_count": 2,
   "id": "47a84c91",
   "metadata": {
    "execution": {
     "iopub.execute_input": "2023-04-11T19:23:54.827018Z",
     "iopub.status.busy": "2023-04-11T19:23:54.825777Z",
     "iopub.status.idle": "2023-04-11T19:23:54.839244Z",
     "shell.execute_reply": "2023-04-11T19:23:54.837921Z"
    },
    "papermill": {
     "duration": 0.020406,
     "end_time": "2023-04-11T19:23:54.841850",
     "exception": false,
     "start_time": "2023-04-11T19:23:54.821444",
     "status": "completed"
    },
    "tags": []
   },
   "outputs": [
    {
     "data": {
      "text/plain": [
       "0.9035079029052513"
      ]
     },
     "execution_count": 2,
     "metadata": {},
     "output_type": "execute_result"
    }
   ],
   "source": [
    "# Standard Deviation\n",
    "import numpy\n",
    "speed = [86, 87, 88, 86, 87, 85, 86]\n",
    "x = numpy.std(speed)\n",
    "x"
   ]
  },
  {
   "cell_type": "code",
   "execution_count": 3,
   "id": "6c058a04",
   "metadata": {
    "execution": {
     "iopub.execute_input": "2023-04-11T19:23:54.849096Z",
     "iopub.status.busy": "2023-04-11T19:23:54.848637Z",
     "iopub.status.idle": "2023-04-11T19:23:54.858814Z",
     "shell.execute_reply": "2023-04-11T19:23:54.857521Z"
    },
    "papermill": {
     "duration": 0.017136,
     "end_time": "2023-04-11T19:23:54.861618",
     "exception": false,
     "start_time": "2023-04-11T19:23:54.844482",
     "status": "completed"
    },
    "tags": []
   },
   "outputs": [
    {
     "data": {
      "text/plain": [
       "array([1.68470392, 4.27805417, 3.40876695, 2.74753151, 0.69289078,\n",
       "       2.58978454, 0.76594841, 4.09921263, 2.868763  , 4.88816717,\n",
       "       1.05014995, 4.03552336, 3.29623355, 3.19621208, 0.85697801,\n",
       "       4.41091677, 0.39872643, 4.37020076, 4.14449607, 3.32421299,\n",
       "       1.99410467, 0.3116356 , 2.38575186, 0.2870481 , 1.78168446,\n",
       "       0.86266082, 0.01079163, 0.18459852, 4.26195849, 1.80715547,\n",
       "       4.9242317 , 3.25353473, 0.96081838, 2.47734878, 1.77724631,\n",
       "       3.56570381, 4.68704008, 0.58837846, 1.31867501, 1.45517171,\n",
       "       3.3710737 , 2.29710182, 1.47217698, 3.91751591, 2.31561719,\n",
       "       0.93536184, 3.62582822, 3.78385901, 2.25447257, 3.90151148,\n",
       "       0.93551978, 0.28405187, 4.54183646, 1.14752422, 2.70847028,\n",
       "       2.79173263, 2.0885013 , 4.58337592, 4.47806876, 4.92244153,\n",
       "       3.90449269, 4.16770968, 2.57240788, 4.79102606, 3.81665359,\n",
       "       4.4796392 , 4.65814146, 1.86912463, 4.15420959, 0.49040167,\n",
       "       3.04644378, 4.19389584, 0.85689217, 1.87399844, 3.04259584,\n",
       "       4.2451914 , 3.07627582, 2.33556949, 2.93680586, 1.27010478,\n",
       "       1.45810637, 3.20651918, 4.24348048, 1.72004529, 4.90412856,\n",
       "       0.04557163, 1.21941692, 2.97127554, 2.81640609, 3.97841994,\n",
       "       3.4240091 , 4.4843801 , 4.38630748, 2.22396359, 4.46382071,\n",
       "       1.38536347, 2.28944725, 1.85054531, 1.54255004, 4.35205122,\n",
       "       0.24534973, 3.3705111 , 4.439092  , 3.76283786, 0.75740757,\n",
       "       1.33460246, 3.3231906 , 0.54543026, 3.62664333, 3.16083237,\n",
       "       2.5947189 , 0.2198333 , 1.64056841, 0.71293931, 1.53677101,\n",
       "       3.7391135 , 0.85286531, 4.35754431, 4.82915639, 1.98083951,\n",
       "       4.07985822, 2.93683248, 1.10147707, 2.68783031, 1.51297959,\n",
       "       3.76330445, 1.10877828, 4.90131326, 2.32485889, 2.58859236,\n",
       "       0.55335207, 3.55659376, 1.32821649, 3.73438669, 4.01680663,\n",
       "       2.48591157, 0.89013301, 1.04638346, 4.974627  , 4.39589929,\n",
       "       0.92066716, 2.34724714, 1.38993794, 1.77462184, 4.5606552 ,\n",
       "       4.73114629, 1.34035952, 3.54499909, 4.75420412, 2.98545948,\n",
       "       3.74139193, 0.49152915, 0.4085583 , 4.53614518, 3.66261522,\n",
       "       1.55983211, 0.49092951, 2.31178715, 1.10791987, 3.88189703,\n",
       "       4.64999294, 1.88404045, 4.9347262 , 0.72803934, 2.3512027 ,\n",
       "       0.78508025, 4.00051249, 4.86185798, 0.59975747, 1.13021095,\n",
       "       1.66592391, 0.63331463, 2.85148275, 2.84689893, 2.05585719,\n",
       "       1.80917892, 3.28939535, 0.06980816, 2.16554718, 4.1677221 ,\n",
       "       1.61443353, 0.05135358, 3.13798234, 0.19318141, 1.46386914,\n",
       "       0.11686031, 1.52971504, 3.16460107, 4.77201702, 1.45690483,\n",
       "       2.44686132, 0.61549155, 3.14730643, 1.60131531, 2.79996957,\n",
       "       0.5434436 , 2.29549281, 0.59312816, 1.35826093, 4.78604304,\n",
       "       3.92519366, 2.60336966, 2.02122412, 2.46422423, 2.16690956,\n",
       "       2.03000837, 1.76030678, 0.66222917, 2.30902971, 0.12496683,\n",
       "       4.0486415 , 2.46451449, 0.10268394, 0.43158023, 3.96090312,\n",
       "       0.66939984, 4.56071026, 1.09882345, 3.61942838, 4.06557069,\n",
       "       2.14586031, 1.09031137, 3.71592809, 0.11578842, 1.52863757,\n",
       "       2.93381001, 2.95374927, 2.46256115, 1.15765108, 0.82850482,\n",
       "       0.42438358, 4.4817775 , 1.62029124, 3.16641681, 3.00440627,\n",
       "       3.55193649, 2.79793236, 4.29785073, 4.01087073, 4.01901196,\n",
       "       2.55631704, 1.77451449, 0.01045641, 2.88799172, 2.21045236,\n",
       "       0.28602212, 2.6831665 , 3.69631178, 1.89971041, 2.91734489])"
      ]
     },
     "execution_count": 3,
     "metadata": {},
     "output_type": "execute_result"
    }
   ],
   "source": [
    "# Data Distribution print\n",
    "import numpy\n",
    "y = numpy.random.uniform(0.0, 5.0, 250)\n",
    "y"
   ]
  },
  {
   "cell_type": "code",
   "execution_count": 4,
   "id": "c369fd16",
   "metadata": {
    "execution": {
     "iopub.execute_input": "2023-04-11T19:23:54.869097Z",
     "iopub.status.busy": "2023-04-11T19:23:54.868659Z",
     "iopub.status.idle": "2023-04-11T19:23:55.105251Z",
     "shell.execute_reply": "2023-04-11T19:23:55.103893Z"
    },
    "papermill": {
     "duration": 0.243777,
     "end_time": "2023-04-11T19:23:55.108235",
     "exception": false,
     "start_time": "2023-04-11T19:23:54.864458",
     "status": "completed"
    },
    "tags": []
   },
   "outputs": [
    {
     "data": {
      "image/png": "[encoded data removed]",
      "text/plain": [
       "<Figure size 640x480 with 1 Axes>"
      ]
     },
     "metadata": {},
     "output_type": "display_data"
    }
   ],
   "source": [
    "# Data Distribution plot\n",
    "import numpy\n",
    "import matplotlib.pyplot as plt\n",
    "z = numpy.random.uniform(0.0, 5.0, 250)\n",
    "plt.hist(z, 5)\n",
    "plt.show()"
   ]
  },
  {
   "cell_type": "code",
   "execution_count": 5,
   "id": "018cd041",
   "metadata": {
    "execution": {
     "iopub.execute_input": "2023-04-11T19:23:55.116247Z",
     "iopub.status.busy": "2023-04-11T19:23:55.115755Z",
     "iopub.status.idle": "2023-04-11T19:23:55.477781Z",
     "shell.execute_reply": "2023-04-11T19:23:55.475505Z"
    },
    "papermill": {
     "duration": 0.36949,
     "end_time": "2023-04-11T19:23:55.480826",
     "exception": false,
     "start_time": "2023-04-11T19:23:55.111336",
     "status": "completed"
    },
    "tags": []
   },
   "outputs": [
    {
     "data": {
      "image/png": "[encoded data removed]",
      "text/plain": [
       "<Figure size 640x480 with 1 Axes>"
      ]
     },
     "metadata": {},
     "output_type": "display_data"
    }
   ],
   "source": [
    "# Normal Data Distribution \n",
    "import numpy\n",
    "import matplotlib.pyplot as plt\n",
    "a = numpy.random.normal(5.0, 1.0, 100000)\n",
    "plt.hist(a, 100)\n",
    "plt.show()"
   ]
  }
 ],
 "metadata": {
  "kernelspec": {
   "display_name": "Python 3",
   "language": "python",
   "name": "python3"
  },
  "language_info": {
   "codemirror_mode": {
    "name": "ipython",
    "version": 3
   },
   "file_extension": ".py",
   "mimetype": "text/x-python",
   "name": "python",
   "nbconvert_exporter": "python",
   "pygments_lexer": "ipython3",
   "version": "3.7.12"
  },
  "papermill": {
   "default_parameters": {},
   "duration": 12.213169,
   "end_time": "2023-04-11T19:23:56.208441",
   "environment_variables": {},
   "exception": null,
   "input_path": "__notebook__.ipynb",
   "output_path": "__notebook__.ipynb",
   "parameters": {},
   "start_time": "2023-04-11T19:23:43.995272",
   "version": "2.4.0"
  }
 },
 "nbformat": 4,
 "nbformat_minor": 5
}
