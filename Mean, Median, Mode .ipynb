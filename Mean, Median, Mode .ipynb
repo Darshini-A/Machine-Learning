{
 "cells": [
  {
   "cell_type": "code",
   "execution_count": 1,
   "id": "54ff4bdc",
   "metadata": {
    "_cell_guid": "b1076dfc-b9ad-4769-8c92-a6c4dae69d19",
    "_uuid": "8f2839f25d086af736a60e9eeb907d3b93b6e0e5",
    "execution": {
     "iopub.execute_input": "2023-04-02T18:10:57.036343Z",
     "iopub.status.busy": "2023-04-02T18:10:57.035063Z",
     "iopub.status.idle": "2023-04-02T18:10:57.049315Z",
     "shell.execute_reply": "2023-04-02T18:10:57.048361Z"
    },
    "papermill": {
     "duration": 0.021837,
     "end_time": "2023-04-02T18:10:57.051868",
     "exception": false,
     "start_time": "2023-04-02T18:10:57.030031",
     "status": "completed"
    },
    "tags": []
   },
   "outputs": [],
   "source": [
    "# This Python 3 environment comes with many helpful analytics libraries installed\n",
    "# It is defined by the kaggle/python Docker image: https://github.com/kaggle/docker-python\n",
    "# For example, here's several helpful packages to load\n",
    "\n",
    "import numpy as np # linear algebra\n",
    "import pandas as pd # data processing, CSV file I/O (e.g. pd.read_csv)\n",
    "\n",
    "# Input data files are available in the read-only \"../input/\" directory\n",
    "# For example, running this (by clicking run or pressing Shift+Enter) will list all files under the input directory\n",
    "\n",
    "import os\n",
    "for dirname, _, filenames in os.walk('/kaggle/input'):\n",
    "    for filename in filenames:\n",
    "        print(os.path.join(dirname, filename))\n",
    "\n",
    "# You can write up to 20GB to the current directory (/kaggle/working/) that gets preserved as output when you create a version using \"Save & Run All\" \n",
    "# You can also write temporary files to /kaggle/temp/, but they won't be saved outside of the current session"
   ]
  },
  {
   "cell_type": "code",
   "execution_count": 2,
   "id": "ae119894",
   "metadata": {
    "execution": {
     "iopub.execute_input": "2023-04-02T18:10:57.058626Z",
     "iopub.status.busy": "2023-04-02T18:10:57.057700Z",
     "iopub.status.idle": "2023-04-02T18:10:57.067410Z",
     "shell.execute_reply": "2023-04-02T18:10:57.066161Z"
    },
    "papermill": {
     "duration": 0.015562,
     "end_time": "2023-04-02T18:10:57.069882",
     "exception": false,
     "start_time": "2023-04-02T18:10:57.054320",
     "status": "completed"
    },
    "tags": []
   },
   "outputs": [
    {
     "data": {
      "text/plain": [
       "89.76923076923077"
      ]
     },
     "execution_count": 2,
     "metadata": {},
     "output_type": "execute_result"
    }
   ],
   "source": [
    "import numpy\n",
    "speed = (99,86,87,88,111,86,103,87,94,78,77,85,86)\n",
    "x = numpy.mean(speed)\n",
    "x"
   ]
  },
  {
   "cell_type": "code",
   "execution_count": 3,
   "id": "39a25a2a",
   "metadata": {
    "execution": {
     "iopub.execute_input": "2023-04-02T18:10:57.076666Z",
     "iopub.status.busy": "2023-04-02T18:10:57.075670Z",
     "iopub.status.idle": "2023-04-02T18:10:57.084866Z",
     "shell.execute_reply": "2023-04-02T18:10:57.083687Z"
    },
    "papermill": {
     "duration": 0.014985,
     "end_time": "2023-04-02T18:10:57.087236",
     "exception": false,
     "start_time": "2023-04-02T18:10:57.072251",
     "status": "completed"
    },
    "tags": []
   },
   "outputs": [
    {
     "data": {
      "text/plain": [
       "87.0"
      ]
     },
     "execution_count": 3,
     "metadata": {},
     "output_type": "execute_result"
    }
   ],
   "source": [
    "import numpy\n",
    "speed = (99,86,87,88,111,86,103,87,94,78,77,85,86)\n",
    "x = numpy.median(speed)\n",
    "x"
   ]
  },
  {
   "cell_type": "code",
   "execution_count": 4,
   "id": "e613de06",
   "metadata": {
    "execution": {
     "iopub.execute_input": "2023-04-02T18:10:57.093885Z",
     "iopub.status.busy": "2023-04-02T18:10:57.093249Z",
     "iopub.status.idle": "2023-04-02T18:10:58.000413Z",
     "shell.execute_reply": "2023-04-02T18:10:57.999154Z"
    },
    "papermill": {
     "duration": 0.913768,
     "end_time": "2023-04-02T18:10:58.003363",
     "exception": false,
     "start_time": "2023-04-02T18:10:57.089595",
     "status": "completed"
    },
    "tags": []
   },
   "outputs": [
    {
     "data": {
      "text/plain": [
       "ModeResult(mode=array([86]), count=array([3]))"
      ]
     },
     "execution_count": 4,
     "metadata": {},
     "output_type": "execute_result"
    }
   ],
   "source": [
    "from scipy import stats\n",
    "speed = (99,86,87,88,111,86,103,87,94,78,77,85,86)\n",
    "x = stats.mode(speed)\n",
    "x"
   ]
  }
 ],
 "metadata": {
  "kernelspec": {
   "display_name": "Python 3",
   "language": "python",
   "name": "python3"
  },
  "language_info": {
   "codemirror_mode": {
    "name": "ipython",
    "version": 3
   },
   "file_extension": ".py",
   "mimetype": "text/x-python",
   "name": "python",
   "nbconvert_exporter": "python",
   "pygments_lexer": "ipython3",
   "version": "3.7.12"
  },
  "papermill": {
   "default_parameters": {},
   "duration": 11.979909,
   "end_time": "2023-04-02T18:10:58.728805",
   "environment_variables": {},
   "exception": null,
   "input_path": "__notebook__.ipynb",
   "output_path": "__notebook__.ipynb",
   "parameters": {},
   "start_time": "2023-04-02T18:10:46.748896",
   "version": "2.4.0"
  }
 },
 "nbformat": 4,
 "nbformat_minor": 5
}
