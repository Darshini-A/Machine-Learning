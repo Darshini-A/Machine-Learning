{
 "cells": [
  {
   "cell_type": "code",
   "execution_count": 1,
   "id": "80ddbf87",
   "metadata": {
    "_cell_guid": "b1076dfc-b9ad-4769-8c92-a6c4dae69d19",
    "_uuid": "8f2839f25d086af736a60e9eeb907d3b93b6e0e5",
    "execution": {
     "iopub.execute_input": "2023-04-06T04:46:24.725082Z",
     "iopub.status.busy": "2023-04-06T04:46:24.724131Z",
     "iopub.status.idle": "2023-04-06T04:46:24.740538Z",
     "shell.execute_reply": "2023-04-06T04:46:24.739506Z"
    },
    "papermill": {
     "duration": 0.024357,
     "end_time": "2023-04-06T04:46:24.743142",
     "exception": false,
     "start_time": "2023-04-06T04:46:24.718785",
     "status": "completed"
    },
    "tags": []
   },
   "outputs": [
    {
     "name": "stdout",
     "output_type": "stream",
     "text": [
      "/kaggle/input/dataset/Data.csv\n"
     ]
    }
   ],
   "source": [
    "# This Python 3 environment comes with many helpful analytics libraries installed\n",
    "# It is defined by the kaggle/python Docker image: https://github.com/kaggle/docker-python\n",
    "# For example, here's several helpful packages to load\n",
    "\n",
    "import numpy as np # linear algebra\n",
    "import pandas as pd # data processing, CSV file I/O (e.g. pd.read_csv)\n",
    "\n",
    "# Input data files are available in the read-only \"../input/\" directory\n",
    "# For example, running this (by clicking run or pressing Shift+Enter) will list all files under the input directory\n",
    "\n",
    "import os\n",
    "for dirname, _, filenames in os.walk('/kaggle/input'):\n",
    "    for filename in filenames:\n",
    "        print(os.path.join(dirname, filename))\n",
    "\n",
    "# You can write up to 20GB to the current directory (/kaggle/working/) that gets preserved as output when you create a version using \"Save & Run All\" \n",
    "# You can also write temporary files to /kaggle/temp/, but they won't be saved outside of the current session"
   ]
  },
  {
   "cell_type": "code",
   "execution_count": 2,
   "id": "310339bd",
   "metadata": {
    "execution": {
     "iopub.execute_input": "2023-04-06T04:46:24.751299Z",
     "iopub.status.busy": "2023-04-06T04:46:24.750825Z",
     "iopub.status.idle": "2023-04-06T04:46:24.755511Z",
     "shell.execute_reply": "2023-04-06T04:46:24.754474Z"
    },
    "papermill": {
     "duration": 0.010733,
     "end_time": "2023-04-06T04:46:24.757429",
     "exception": false,
     "start_time": "2023-04-06T04:46:24.746696",
     "status": "completed"
    },
    "tags": []
   },
   "outputs": [],
   "source": [
    "# Importing libraries\n",
    "import numpy as np\n",
    "import matplotlib.pyplot as plt\n",
    "import pandas as pd"
   ]
  },
  {
   "cell_type": "code",
   "execution_count": 3,
   "id": "2b0593cf",
   "metadata": {
    "execution": {
     "iopub.execute_input": "2023-04-06T04:46:24.765140Z",
     "iopub.status.busy": "2023-04-06T04:46:24.764881Z",
     "iopub.status.idle": "2023-04-06T04:46:24.783203Z",
     "shell.execute_reply": "2023-04-06T04:46:24.781964Z"
    },
    "papermill": {
     "duration": 0.024372,
     "end_time": "2023-04-06T04:46:24.785152",
     "exception": false,
     "start_time": "2023-04-06T04:46:24.760780",
     "status": "completed"
    },
    "tags": []
   },
   "outputs": [
    {
     "name": "stdout",
     "output_type": "stream",
     "text": [
      "[['france' 44.0 72000.0]\n",
      " ['spain' 27.0 48000.0]\n",
      " ['germany' 30.0 54000.0]\n",
      " ['spain' 38.0 61000.0]\n",
      " ['germany' 40.0 nan]\n",
      " ['france' 35.0 58000.0]\n",
      " ['spain' nan 52000.0]\n",
      " ['france' 48.0 79000.0]\n",
      " ['germany' 50.0 83000.0]\n",
      " ['france' 37.0 87000.0]]\n"
     ]
    }
   ],
   "source": [
    "# Importing dataset\n",
    "data = pd.read_csv('/kaggle/input/dataset/Data.csv')\n",
    "x = data.iloc[:, :-1].values\n",
    "y = data.iloc[:, -1].values\n",
    "print(x)"
   ]
  },
  {
   "cell_type": "code",
   "execution_count": 4,
   "id": "7dd64eab",
   "metadata": {
    "execution": {
     "iopub.execute_input": "2023-04-06T04:46:24.793429Z",
     "iopub.status.busy": "2023-04-06T04:46:24.792925Z",
     "iopub.status.idle": "2023-04-06T04:46:25.910841Z",
     "shell.execute_reply": "2023-04-06T04:46:25.909626Z"
    },
    "papermill": {
     "duration": 1.124526,
     "end_time": "2023-04-06T04:46:25.913143",
     "exception": false,
     "start_time": "2023-04-06T04:46:24.788617",
     "status": "completed"
    },
    "tags": []
   },
   "outputs": [
    {
     "name": "stdout",
     "output_type": "stream",
     "text": [
      "[['france' 44.0 72000.0]\n",
      " ['spain' 27.0 48000.0]\n",
      " ['germany' 30.0 54000.0]\n",
      " ['spain' 38.0 61000.0]\n",
      " ['germany' 40.0 66000.0]\n",
      " ['france' 35.0 58000.0]\n",
      " ['spain' 38.77777777777778 52000.0]\n",
      " ['france' 48.0 79000.0]\n",
      " ['germany' 50.0 83000.0]\n",
      " ['france' 37.0 87000.0]]\n"
     ]
    }
   ],
   "source": [
    "# Taking care of missing data\n",
    "from sklearn.impute import SimpleImputer\n",
    "imputer = SimpleImputer(missing_values = np.nan, strategy='mean')\n",
    "imputer.fit(x[:, 1:3])\n",
    "x[:, 1:3] = imputer.transform(x[:, 1:3])\n",
    "print(x)"
   ]
  },
  {
   "cell_type": "code",
   "execution_count": 5,
   "id": "d5fbe204",
   "metadata": {
    "execution": {
     "iopub.execute_input": "2023-04-06T04:46:25.920853Z",
     "iopub.status.busy": "2023-04-06T04:46:25.920614Z",
     "iopub.status.idle": "2023-04-06T04:46:25.940371Z",
     "shell.execute_reply": "2023-04-06T04:46:25.939033Z"
    },
    "papermill": {
     "duration": 0.025758,
     "end_time": "2023-04-06T04:46:25.942345",
     "exception": false,
     "start_time": "2023-04-06T04:46:25.916587",
     "status": "completed"
    },
    "tags": []
   },
   "outputs": [
    {
     "name": "stdout",
     "output_type": "stream",
     "text": [
      "[[1.0 0.0 0.0 44.0 72000.0]\n",
      " [0.0 0.0 1.0 27.0 48000.0]\n",
      " [0.0 1.0 0.0 30.0 54000.0]\n",
      " [0.0 0.0 1.0 38.0 61000.0]\n",
      " [0.0 1.0 0.0 40.0 66000.0]\n",
      " [1.0 0.0 0.0 35.0 58000.0]\n",
      " [0.0 0.0 1.0 38.77777777777778 52000.0]\n",
      " [1.0 0.0 0.0 48.0 79000.0]\n",
      " [0.0 1.0 0.0 50.0 83000.0]\n",
      " [1.0 0.0 0.0 37.0 87000.0]]\n"
     ]
    }
   ],
   "source": [
    "# Encoding independent variable\n",
    "from sklearn.compose import ColumnTransformer\n",
    "from sklearn.preprocessing import OneHotEncoder\n",
    "ct = ColumnTransformer(transformers = [('encoder', OneHotEncoder(), [0])], remainder='passthrough')\n",
    "x = np.array(ct.fit_transform(x))\n",
    "print(x)"
   ]
  },
  {
   "cell_type": "code",
   "execution_count": 6,
   "id": "0d1060c1",
   "metadata": {
    "execution": {
     "iopub.execute_input": "2023-04-06T04:46:25.950635Z",
     "iopub.status.busy": "2023-04-06T04:46:25.949621Z",
     "iopub.status.idle": "2023-04-06T04:46:25.955406Z",
     "shell.execute_reply": "2023-04-06T04:46:25.954305Z"
    },
    "papermill": {
     "duration": 0.011786,
     "end_time": "2023-04-06T04:46:25.957423",
     "exception": false,
     "start_time": "2023-04-06T04:46:25.945637",
     "status": "completed"
    },
    "tags": []
   },
   "outputs": [
    {
     "name": "stdout",
     "output_type": "stream",
     "text": [
      "[0 1 0 0 1 1 0 1 0 1]\n"
     ]
    }
   ],
   "source": [
    "# Encoding dependent variable\n",
    "from sklearn.preprocessing import LabelEncoder\n",
    "le = LabelEncoder()\n",
    "y = le.fit_transform(y)\n",
    "print(y)"
   ]
  },
  {
   "cell_type": "code",
   "execution_count": 7,
   "id": "bfc1a2d1",
   "metadata": {
    "execution": {
     "iopub.execute_input": "2023-04-06T04:46:25.965625Z",
     "iopub.status.busy": "2023-04-06T04:46:25.964753Z",
     "iopub.status.idle": "2023-04-06T04:46:25.971981Z",
     "shell.execute_reply": "2023-04-06T04:46:25.970907Z"
    },
    "papermill": {
     "duration": 0.013425,
     "end_time": "2023-04-06T04:46:25.974041",
     "exception": false,
     "start_time": "2023-04-06T04:46:25.960616",
     "status": "completed"
    },
    "tags": []
   },
   "outputs": [],
   "source": [
    "# Splitting into dataset into training set & test set\n",
    "from sklearn.model_selection import train_test_split\n",
    "x_train, x_test, y_train, y_test = train_test_split(x, y, test_size=0.2, random_state=1)"
   ]
  },
  {
   "cell_type": "code",
   "execution_count": 8,
   "id": "c6c5f83d",
   "metadata": {
    "execution": {
     "iopub.execute_input": "2023-04-06T04:46:25.983451Z",
     "iopub.status.busy": "2023-04-06T04:46:25.982332Z",
     "iopub.status.idle": "2023-04-06T04:46:25.987566Z",
     "shell.execute_reply": "2023-04-06T04:46:25.986695Z"
    },
    "papermill": {
     "duration": 0.011599,
     "end_time": "2023-04-06T04:46:25.989297",
     "exception": false,
     "start_time": "2023-04-06T04:46:25.977698",
     "status": "completed"
    },
    "tags": []
   },
   "outputs": [
    {
     "name": "stdout",
     "output_type": "stream",
     "text": [
      "[[0.0 0.0 1.0 38.77777777777778 52000.0]\n",
      " [0.0 1.0 0.0 40.0 66000.0]\n",
      " [1.0 0.0 0.0 44.0 72000.0]\n",
      " [0.0 0.0 1.0 38.0 61000.0]\n",
      " [0.0 0.0 1.0 27.0 48000.0]\n",
      " [1.0 0.0 0.0 48.0 79000.0]\n",
      " [0.0 1.0 0.0 50.0 83000.0]\n",
      " [1.0 0.0 0.0 35.0 58000.0]]\n"
     ]
    }
   ],
   "source": [
    "print(x_train)"
   ]
  },
  {
   "cell_type": "code",
   "execution_count": 9,
   "id": "b810d1c2",
   "metadata": {
    "execution": {
     "iopub.execute_input": "2023-04-06T04:46:25.997473Z",
     "iopub.status.busy": "2023-04-06T04:46:25.996830Z",
     "iopub.status.idle": "2023-04-06T04:46:26.001579Z",
     "shell.execute_reply": "2023-04-06T04:46:26.000426Z"
    },
    "papermill": {
     "duration": 0.010724,
     "end_time": "2023-04-06T04:46:26.003421",
     "exception": false,
     "start_time": "2023-04-06T04:46:25.992697",
     "status": "completed"
    },
    "tags": []
   },
   "outputs": [
    {
     "name": "stdout",
     "output_type": "stream",
     "text": [
      "[[0.0 1.0 0.0 30.0 54000.0]\n",
      " [1.0 0.0 0.0 37.0 87000.0]]\n"
     ]
    }
   ],
   "source": [
    "print(x_test)"
   ]
  },
  {
   "cell_type": "code",
   "execution_count": 10,
   "id": "0371ec91",
   "metadata": {
    "execution": {
     "iopub.execute_input": "2023-04-06T04:46:26.011900Z",
     "iopub.status.busy": "2023-04-06T04:46:26.011600Z",
     "iopub.status.idle": "2023-04-06T04:46:26.016350Z",
     "shell.execute_reply": "2023-04-06T04:46:26.015328Z"
    },
    "papermill": {
     "duration": 0.011625,
     "end_time": "2023-04-06T04:46:26.018720",
     "exception": false,
     "start_time": "2023-04-06T04:46:26.007095",
     "status": "completed"
    },
    "tags": []
   },
   "outputs": [
    {
     "name": "stdout",
     "output_type": "stream",
     "text": [
      "[0 1 0 0 1 1 0 1]\n"
     ]
    }
   ],
   "source": [
    "print(y_train)"
   ]
  },
  {
   "cell_type": "code",
   "execution_count": 11,
   "id": "ff5242bc",
   "metadata": {
    "execution": {
     "iopub.execute_input": "2023-04-06T04:46:26.027989Z",
     "iopub.status.busy": "2023-04-06T04:46:26.027406Z",
     "iopub.status.idle": "2023-04-06T04:46:26.033209Z",
     "shell.execute_reply": "2023-04-06T04:46:26.031896Z"
    },
    "papermill": {
     "duration": 0.013149,
     "end_time": "2023-04-06T04:46:26.035588",
     "exception": false,
     "start_time": "2023-04-06T04:46:26.022439",
     "status": "completed"
    },
    "tags": []
   },
   "outputs": [
    {
     "name": "stdout",
     "output_type": "stream",
     "text": [
      "[0 1]\n"
     ]
    }
   ],
   "source": [
    "print(y_test)"
   ]
  }
 ],
 "metadata": {
  "kernelspec": {
   "display_name": "Python 3",
   "language": "python",
   "name": "python3"
  },
  "language_info": {
   "codemirror_mode": {
    "name": "ipython",
    "version": 3
   },
   "file_extension": ".py",
   "mimetype": "text/x-python",
   "name": "python",
   "nbconvert_exporter": "python",
   "pygments_lexer": "ipython3",
   "version": "3.7.12"
  },
  "papermill": {
   "default_parameters": {},
   "duration": 10.916711,
   "end_time": "2023-04-06T04:46:26.660632",
   "environment_variables": {},
   "exception": null,
   "input_path": "__notebook__.ipynb",
   "output_path": "__notebook__.ipynb",
   "parameters": {},
   "start_time": "2023-04-06T04:46:15.743921",
   "version": "2.4.0"
  }
 },
 "nbformat": 4,
 "nbformat_minor": 5
}
