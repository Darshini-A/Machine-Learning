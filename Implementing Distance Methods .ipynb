{
 "cells": [
  {
   "cell_type": "code",
   "execution_count": 1,
   "id": "e14d6217",
   "metadata": {
    "_cell_guid": "b1076dfc-b9ad-4769-8c92-a6c4dae69d19",
    "_uuid": "8f2839f25d086af736a60e9eeb907d3b93b6e0e5",
    "execution": {
     "iopub.execute_input": "2023-04-06T05:56:20.491655Z",
     "iopub.status.busy": "2023-04-06T05:56:20.490589Z",
     "iopub.status.idle": "2023-04-06T05:56:20.502406Z",
     "shell.execute_reply": "2023-04-06T05:56:20.501193Z"
    },
    "papermill": {
     "duration": 0.019879,
     "end_time": "2023-04-06T05:56:20.505165",
     "exception": false,
     "start_time": "2023-04-06T05:56:20.485286",
     "status": "completed"
    },
    "tags": []
   },
   "outputs": [],
   "source": [
    "# This Python 3 environment comes with many helpful analytics libraries installed\n",
    "# It is defined by the kaggle/python Docker image: https://github.com/kaggle/docker-python\n",
    "# For example, here's several helpful packages to load\n",
    "\n",
    "import numpy as np # linear algebra\n",
    "import pandas as pd # data processing, CSV file I/O (e.g. pd.read_csv)\n",
    "\n",
    "# Input data files are available in the read-only \"../input/\" directory\n",
    "# For example, running this (by clicking run or pressing Shift+Enter) will list all files under the input directory\n",
    "\n",
    "import os\n",
    "for dirname, _, filenames in os.walk('/kaggle/input'):\n",
    "    for filename in filenames:\n",
    "        print(os.path.join(dirname, filename))\n",
    "\n",
    "# You can write up to 20GB to the current directory (/kaggle/working/) that gets preserved as output when you create a version using \"Save & Run All\" \n",
    "# You can also write temporary files to /kaggle/temp/, but they won't be saved outside of the current session"
   ]
  },
  {
   "cell_type": "code",
   "execution_count": 2,
   "id": "63320618",
   "metadata": {
    "execution": {
     "iopub.execute_input": "2023-04-06T05:56:20.511790Z",
     "iopub.status.busy": "2023-04-06T05:56:20.511385Z",
     "iopub.status.idle": "2023-04-06T05:56:20.519023Z",
     "shell.execute_reply": "2023-04-06T05:56:20.517949Z"
    },
    "papermill": {
     "duration": 0.014722,
     "end_time": "2023-04-06T05:56:20.522502",
     "exception": false,
     "start_time": "2023-04-06T05:56:20.507780",
     "status": "completed"
    },
    "tags": []
   },
   "outputs": [
    {
     "name": "stdout",
     "output_type": "stream",
     "text": [
      "6.082762530298219\n"
     ]
    }
   ],
   "source": [
    "# Euclidean distance b/w vectors\n",
    "from math import sqrt\n",
    "def euclidean_distance(a,b):\n",
    "    return sqrt(sum((e1-e2)**2 for e1, e2 in zip(a,b)))\n",
    "row1 = [10, 20, 15, 10, 5]\n",
    "row2 = [12, 24, 18, 8, 7]\n",
    "distEV = euclidean_distance(row1, row2)\n",
    "print(distEV)"
   ]
  },
  {
   "cell_type": "code",
   "execution_count": 3,
   "id": "c5163c7c",
   "metadata": {
    "execution": {
     "iopub.execute_input": "2023-04-06T05:56:20.530543Z",
     "iopub.status.busy": "2023-04-06T05:56:20.529606Z",
     "iopub.status.idle": "2023-04-06T05:56:20.741598Z",
     "shell.execute_reply": "2023-04-06T05:56:20.740159Z"
    },
    "papermill": {
     "duration": 0.219302,
     "end_time": "2023-04-06T05:56:20.744492",
     "exception": false,
     "start_time": "2023-04-06T05:56:20.525190",
     "status": "completed"
    },
    "tags": []
   },
   "outputs": [
    {
     "name": "stdout",
     "output_type": "stream",
     "text": [
      "6.082762530298219\n"
     ]
    }
   ],
   "source": [
    "# Euclidean() fn from scipy\n",
    "from scipy.spatial.distance import euclidean\n",
    "row1 = [10, 20, 15, 10, 5]\n",
    "row2 = [12, 24, 18, 8, 7]\n",
    "distES = euclidean(row1, row2)\n",
    "print(distES)"
   ]
  },
  {
   "cell_type": "code",
   "execution_count": 4,
   "id": "649888dd",
   "metadata": {
    "execution": {
     "iopub.execute_input": "2023-04-06T05:56:20.751326Z",
     "iopub.status.busy": "2023-04-06T05:56:20.750847Z",
     "iopub.status.idle": "2023-04-06T05:56:20.758462Z",
     "shell.execute_reply": "2023-04-06T05:56:20.757234Z"
    },
    "papermill": {
     "duration": 0.013825,
     "end_time": "2023-04-06T05:56:20.760929",
     "exception": false,
     "start_time": "2023-04-06T05:56:20.747104",
     "status": "completed"
    },
    "tags": []
   },
   "outputs": [
    {
     "name": "stdout",
     "output_type": "stream",
     "text": [
      "13\n"
     ]
    }
   ],
   "source": [
    "# Manhattan distance b/w vectors\n",
    "def manhattan_distance(a,b):\n",
    "    return sum(abs(e1-e2) for e1, e2 in zip(a,b))\n",
    "row1 = [10, 20, 15, 10, 5]\n",
    "row2 = [12, 24, 18, 8, 7]\n",
    "distMV = manhattan_distance(row1, row2)\n",
    "print(distMV)"
   ]
  }
 ],
 "metadata": {
  "kernelspec": {
   "display_name": "Python 3",
   "language": "python",
   "name": "python3"
  },
  "language_info": {
   "codemirror_mode": {
    "name": "ipython",
    "version": 3
   },
   "file_extension": ".py",
   "mimetype": "text/x-python",
   "name": "python",
   "nbconvert_exporter": "python",
   "pygments_lexer": "ipython3",
   "version": "3.7.12"
  },
  "papermill": {
   "default_parameters": {},
   "duration": 11.025721,
   "end_time": "2023-04-06T05:56:21.486982",
   "environment_variables": {},
   "exception": null,
   "input_path": "__notebook__.ipynb",
   "output_path": "__notebook__.ipynb",
   "parameters": {},
   "start_time": "2023-04-06T05:56:10.461261",
   "version": "2.4.0"
  }
 },
 "nbformat": 4,
 "nbformat_minor": 5
}
